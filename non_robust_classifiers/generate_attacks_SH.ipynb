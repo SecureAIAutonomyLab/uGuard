{
 "cells": [
  {
   "cell_type": "code",
   "execution_count": null,
   "metadata": {
    "id": "XU9Hd-WN3n8p"
   },
   "outputs": [],
   "source": [
    "#!git clone https://github.com/alvenchen/nsfw-pytorch.git\n",
    "#!unzip nsfw-pytorch.zip"
   ]
  },
  {
   "cell_type": "code",
   "execution_count": null,
   "metadata": {
    "colab": {
     "base_uri": "https://localhost:8080/"
    },
    "id": "fmqXeZjT6OPr",
    "outputId": "22cc2f10-3882-4558-f124-4df373a7b4e7"
   },
   "outputs": [],
   "source": [
    "#!pip install mxnet"
   ]
  },
  {
   "cell_type": "code",
   "execution_count": null,
   "metadata": {
    "colab": {
     "base_uri": "https://localhost:8080/"
    },
    "id": "qJaZ43p85DmP",
    "outputId": "95366b01-604e-4d1d-c729-5459bed18f6d"
   },
   "outputs": [],
   "source": [
    "#!python  nsfw_pytorch/src/test_img.py --batch_size 1 --image_size 299 --test_data_dir nsfw-pytorch/data/test/ --saved_model nsfw-pytorch/models/resnet50-19c8e357.pth --save_path nsfw-pytorch/data/result/"
   ]
  },
  {
   "cell_type": "code",
   "execution_count": null,
   "metadata": {
    "id": "nl7lg8Yk0jH5"
   },
   "outputs": [],
   "source": [
    "#!cp nsfw_pytorch/src/model/resnet.py .\n",
    "#!cp nsfw_pytorch/src/model/utils.py ."
   ]
  },
  {
   "cell_type": "code",
   "execution_count": null,
   "metadata": {
    "id": "y3SYjISP-D75"
   },
   "outputs": [],
   "source": [
    "#model = '../../../cyberbullying_purification/samuel_src/src_files/model/resnet.py'\n"
   ]
  },
  {
   "cell_type": "code",
   "execution_count": 133,
   "metadata": {},
   "outputs": [],
   "source": [
    "# general imports\n",
    "import os\n",
    "import argparse\n",
    "import time\n",
    "import numpy as np\n",
    "import json\n",
    "import sys\n",
    "import warnings\n",
    "import tensorflow as tf\n",
    "warnings.filterwarnings('ignore')\n",
    "import matplotlib.pyplot as plt\n",
    "%matplotlib inline\n",
    "#from data_wrapper import DataWrapper\n",
    "from tensorboardX import SummaryWriter\n",
    "import tqdm\n",
    "from PIL import Image\n",
    "import glob\n",
    "\n",
    "#import model\n",
    "# from model import resnet\n",
    "# from model.dpn import dpn92\n",
    "# from model.utils import load_filtered_state_dict, SaveBestModel, AverageMeter, accuracy\n",
    "\n",
    "# torch attack imports\n",
    "from torchattacks import *\n",
    "import torchattacks\n",
    "\n",
    "# torch vision imports\n",
    "import torch\n",
    "import torch.nn as nn\n",
    "import torch.optim as optim\n",
    "import torch.backends.cudnn as cudnn\n",
    "from torch.autograd import Variable\n",
    "import torchvision\n",
    "import torchvision.utils\n",
    "from torchvision import models\n",
    "from torchvision import transforms\n",
    "from torchvision.transforms import GaussianBlur\n",
    "import torchvision.datasets as dsets\n",
    "import torchvision.transforms as transforms\n",
    "import torchvision.transforms.functional as TF\n",
    "# from utils.extract_distributions import extract_distributions as extract_distributions_fn\n",
    "# from utils2 import imshow, image_folder_custom_label\n",
    "from itertools import cycle\n",
    "import itertools\n",
    "import more_itertools"
   ]
  },
  {
   "cell_type": "markdown",
   "metadata": {},
   "source": [
    "## 1. Model"
   ]
  },
  {
   "cell_type": "code",
   "execution_count": 134,
   "metadata": {},
   "outputs": [
    {
     "name": "stderr",
     "output_type": "stream",
     "text": [
      "Using cache found in /root/.cache/torch/hub/pytorch_vision_v0.10.0\n"
     ]
    },
    {
     "name": "stdout",
     "output_type": "stream",
     "text": [
      "/workspace/adv_robustness/cyberbullying_purification/samuel_src\n"
     ]
    },
    {
     "data": {
      "text/plain": [
       "<torch._C.Generator at 0x7fde2e4cbef0>"
      ]
     },
     "execution_count": 134,
     "metadata": {},
     "output_type": "execute_result"
    }
   ],
   "source": [
    "use_cuda = True\n",
    "device = torch.device(\"cuda\" if use_cuda else \"cpu\")\n",
    "cudnn.enabled = True\n",
    "\n",
    "model = torch.hub.load('pytorch/vision:v0.10.0', 'resnet50', pretrained=True)\n",
    "model.fc = nn.Linear(2048, 2, bias=True)\n",
    "\n",
    "num_classes = 2\n",
    "\n",
    "cwd = os.getcwd()\n",
    "print(cwd)\n",
    "torch.manual_seed(0)"
   ]
  },
  {
   "cell_type": "code",
   "execution_count": 135,
   "metadata": {},
   "outputs": [
    {
     "data": {
      "text/plain": [
       "<All keys matched successfully>"
      ]
     },
     "execution_count": 135,
     "metadata": {},
     "output_type": "execute_result"
    }
   ],
   "source": [
    "transform_test = transforms.Compose([transforms.Resize(320),\n",
    "        transforms.RandomCrop(299), transforms.ToTensor(),\n",
    "        transforms.Normalize(mean=[0.485, 0.456, 0.406], std=[0.229, 0.224, 0.225])])\n",
    "\n",
    "good_img_transform = transforms.Normalize((0.485, 0.456, 0.406), (0.229, 0.224, 0.225))\n",
    "invTrans = transforms.Compose([ transforms.Normalize(mean = [ 0., 0., 0. ],\n",
    "                                                     std = [ 1/0.229, 1/0.224, 1/0.225 ]),\n",
    "                                transforms.Normalize(mean = [ -0.485, -0.456, -0.406 ],\n",
    "                                                     std = [ 1., 1., 1. ]),\n",
    "                               ])\n",
    "\n",
    "checkpoint = torch.load('non_robust_classifiers/ResNet_SH_27.pth')\n",
    "model.to(device)\n",
    "model.eval()\n",
    "model.load_state_dict(checkpoint, strict=False)"
   ]
  },
  {
   "cell_type": "code",
   "execution_count": 136,
   "metadata": {},
   "outputs": [],
   "source": [
    "\n",
    "test_path = 'datasets/self_harm/test'\n",
    "testset = torchvision.datasets.ImageFolder(test_path, transform=transform_test)\n",
    "testloader = torch.utils.data.DataLoader(\n",
    "    testset, batch_size=1, shuffle=True, num_workers=2)"
   ]
  },
  {
   "cell_type": "markdown",
   "metadata": {},
   "source": [
    "## Create sample adv images"
   ]
  },
  {
   "cell_type": "code",
   "execution_count": 160,
   "metadata": {},
   "outputs": [
    {
     "name": "stdout",
     "output_type": "stream",
     "text": [
      "tensor(-2.0837)\n",
      "tensor(0., device='cuda:0')\n"
     ]
    }
   ],
   "source": [
    "images, labels = next(itertools.islice(testloader, 1, None))\n",
    "# For Self harm, 1 is self harm class\n",
    "print(images.min())\n",
    "print(adv_image.min())"
   ]
  },
  {
   "cell_type": "code",
   "execution_count": 161,
   "metadata": {},
   "outputs": [],
   "source": [
    "torch.manual_seed(0)\n",
    "\n",
    "#labels = 2\n",
    "\n",
    "atk = torchattacks.PGD(model, eps=16/255, alpha=2/255, steps=100, random_start=True)\n",
    "#atk = torchattacks.Square(model, eps=16/255, n_queries=500, n_restarts=1, loss='ce')\n",
    "#atk = torchattacks.AutoAttack(model, eps=8/255, n_classes=2, version='standard')\n",
    "#atk = torchattacks.PGD(model, eps=8/255, alpha=2/255, steps=100, random_start=True)\n",
    "adv_image = atk(images, labels)\n",
    "\n",
    "# images_final = invTrans(images)\n",
    "# adv_image_final = invTrans(adv_image)"
   ]
  },
  {
   "cell_type": "code",
   "execution_count": 162,
   "metadata": {},
   "outputs": [
    {
     "name": "stdout",
     "output_type": "stream",
     "text": [
      "torch.Size([1, 3, 299, 299])\n"
     ]
    }
   ],
   "source": [
    "print(adv_image.shape)"
   ]
  },
  {
   "cell_type": "code",
   "execution_count": 163,
   "metadata": {},
   "outputs": [
    {
     "name": "stderr",
     "output_type": "stream",
     "text": [
      "Clipping input data to the valid range for imshow with RGB data ([0..1] for floats or [0..255] for integers).\n"
     ]
    },
    {
     "data": {
      "text/plain": [
       "<matplotlib.image.AxesImage at 0x7fe0a1b9b6a0>"
      ]
     },
     "execution_count": 163,
     "metadata": {},
     "output_type": "execute_result"
    },
    {
     "data": {
      "image/png": "[encoded data removed]",
      "text/plain": [
       "<Figure size 432x288 with 1 Axes>"
      ]
     },
     "metadata": {
      "needs_background": "light"
     },
     "output_type": "display_data"
    }
   ],
   "source": [
    "plt.imshow( images.detach().cpu().squeeze().permute(1, 2, 0)  )"
   ]
  },
  {
   "cell_type": "code",
   "execution_count": 45,
   "metadata": {},
   "outputs": [
    {
     "data": {
      "text/plain": [
       "<matplotlib.image.AxesImage at 0x7fe0aaef0a00>"
      ]
     },
     "execution_count": 45,
     "metadata": {},
     "output_type": "execute_result"
    },
    {
     "data": {
      "image/png": "[encoded data removed]",
      "text/plain": [
       "<Figure size 432x288 with 1 Axes>"
      ]
     },
     "metadata": {
      "needs_background": "light"
     },
     "output_type": "display_data"
    }
   ],
   "source": [
    "plt.imshow( images_final.detach().cpu().squeeze().permute(1, 2, 0)  )"
   ]
  },
  {
   "cell_type": "code",
   "execution_count": 46,
   "metadata": {},
   "outputs": [
    {
     "data": {
      "text/plain": [
       "<matplotlib.image.AxesImage at 0x7fe0aadb7d60>"
      ]
     },
     "execution_count": 46,
     "metadata": {},
     "output_type": "execute_result"
    },
    {
     "data": {
      "image/png": "[encoded data removed]",
      "text/plain": [
       "<Figure size 432x288 with 1 Axes>"
      ]
     },
     "metadata": {
      "needs_background": "light"
     },
     "output_type": "display_data"
    }
   ],
   "source": [
    "plt.imshow( adv_image.detach().cpu().squeeze().permute(1, 2, 0)  )"
   ]
  },
  {
   "cell_type": "code",
   "execution_count": 47,
   "metadata": {},
   "outputs": [
    {
     "data": {
      "text/plain": [
       "<matplotlib.image.AxesImage at 0x7fe0aad70fa0>"
      ]
     },
     "execution_count": 47,
     "metadata": {},
     "output_type": "execute_result"
    },
    {
     "data": {
      "image/png": "[encoded data removed]",
      "text/plain": [
       "<Figure size 432x288 with 1 Axes>"
      ]
     },
     "metadata": {
      "needs_background": "light"
     },
     "output_type": "display_data"
    }
   ],
   "source": [
    "plt.imshow( adv_image_final.detach().cpu().squeeze().permute(1, 2, 0)  )"
   ]
  },
  {
   "cell_type": "code",
   "execution_count": null,
   "metadata": {},
   "outputs": [],
   "source": [
    "torch.manual_seed(0)\n",
    "for i in range(50):\n",
    "    images, labels = next(itertools.islice(testloader, i, None))\n",
    "                          \n",
    "    label = labels.item()\n",
    "    outputs = model(images.to(device))\n",
    "    _, predicted = outputs.max(1)\n",
    "    pred_val = predicted.item()\n",
    "    \n",
    "    total_samples += 1\n",
    "    if pred_val == label:\n",
    "        correct += 1"
   ]
  },
  {
   "cell_type": "code",
   "execution_count": 139,
   "metadata": {},
   "outputs": [],
   "source": [
    "i = 0\n",
    "for batch_idx, (inputs, targets) in enumerate(testloader):\n",
    "        inputs, targets = inputs, targets\n",
    "        #print(type(targets.item()))\n",
    "        adv_image = atk(inputs, targets)\n",
    "        if targets.item() == 0:\n",
    "            torch.save(adv_image, 'non_robust_classifiers/self_harm_attacked/non_self_harm'+'/PGD_'+str(i)+'.pt')\n",
    "            #torchvision.utils.save_image(adv_image, 'non_robust_classifiers/self_harm_attacked/non_self_harm'+'/PGD_'+str(i)+'.png')\n",
    "            \n",
    "        if targets.item() == 1:\n",
    "            torch.save(adv_image, 'non_robust_classifiers/self_harm_attacked/self_harm'+'/PGD_'+str(i)+'.pt')\n",
    "            #torchvision.utils.save_image(adv_image, 'non_robust_classifiers/self_harm_attacked/self_harm'+'/PGD_'+str(i)+'.png')\n",
    "            \n",
    "        #print(targets.item())\n",
    "        \n",
    "        i += 1\n",
    "        if i > 50:\n",
    "            break"
   ]
  },
  {
   "cell_type": "markdown",
   "metadata": {},
   "source": [
    "## Test on the attacked images"
   ]
  },
  {
   "cell_type": "code",
   "execution_count": 140,
   "metadata": {},
   "outputs": [],
   "source": [
    "from src_files.model import resnet\n",
    "from src_files.model.utils import load_filtered_state_dict, SaveBestModel, AverageMeter, accuracy"
   ]
  },
  {
   "cell_type": "code",
   "execution_count": 141,
   "metadata": {},
   "outputs": [
    {
     "name": "stdout",
     "output_type": "stream",
     "text": [
      "320 320\n"
     ]
    },
    {
     "data": {
      "text/plain": [
       "ResNet(\n",
       "  (conv1): Conv2d(3, 64, kernel_size=(7, 7), stride=(2, 2), padding=(3, 3), bias=False)\n",
       "  (bn1): BatchNorm2d(64, eps=1e-05, momentum=0.1, affine=True, track_running_stats=True)\n",
       "  (relu): ReLU(inplace=True)\n",
       "  (maxpool): MaxPool2d(kernel_size=3, stride=2, padding=1, dilation=1, ceil_mode=False)\n",
       "  (layer1): Sequential(\n",
       "    (0): Bottleneck(\n",
       "      (conv1): Conv2d(64, 64, kernel_size=(1, 1), stride=(1, 1), bias=False)\n",
       "      (bn1): BatchNorm2d(64, eps=1e-05, momentum=0.1, affine=True, track_running_stats=True)\n",
       "      (conv2): Conv2d(64, 64, kernel_size=(3, 3), stride=(1, 1), padding=(1, 1), bias=False)\n",
       "      (bn2): BatchNorm2d(64, eps=1e-05, momentum=0.1, affine=True, track_running_stats=True)\n",
       "      (conv3): Conv2d(64, 256, kernel_size=(1, 1), stride=(1, 1), bias=False)\n",
       "      (bn3): BatchNorm2d(256, eps=1e-05, momentum=0.1, affine=True, track_running_stats=True)\n",
       "      (relu): ReLU(inplace=True)\n",
       "      (downsample): Sequential(\n",
       "        (0): Conv2d(64, 256, kernel_size=(1, 1), stride=(1, 1), bias=False)\n",
       "        (1): BatchNorm2d(256, eps=1e-05, momentum=0.1, affine=True, track_running_stats=True)\n",
       "      )\n",
       "    )\n",
       "    (1): Bottleneck(\n",
       "      (conv1): Conv2d(256, 64, kernel_size=(1, 1), stride=(1, 1), bias=False)\n",
       "      (bn1): BatchNorm2d(64, eps=1e-05, momentum=0.1, affine=True, track_running_stats=True)\n",
       "      (conv2): Conv2d(64, 64, kernel_size=(3, 3), stride=(1, 1), padding=(1, 1), bias=False)\n",
       "      (bn2): BatchNorm2d(64, eps=1e-05, momentum=0.1, affine=True, track_running_stats=True)\n",
       "      (conv3): Conv2d(64, 256, kernel_size=(1, 1), stride=(1, 1), bias=False)\n",
       "      (bn3): BatchNorm2d(256, eps=1e-05, momentum=0.1, affine=True, track_running_stats=True)\n",
       "      (relu): ReLU(inplace=True)\n",
       "    )\n",
       "    (2): Bottleneck(\n",
       "      (conv1): Conv2d(256, 64, kernel_size=(1, 1), stride=(1, 1), bias=False)\n",
       "      (bn1): BatchNorm2d(64, eps=1e-05, momentum=0.1, affine=True, track_running_stats=True)\n",
       "      (conv2): Conv2d(64, 64, kernel_size=(3, 3), stride=(1, 1), padding=(1, 1), bias=False)\n",
       "      (bn2): BatchNorm2d(64, eps=1e-05, momentum=0.1, affine=True, track_running_stats=True)\n",
       "      (conv3): Conv2d(64, 256, kernel_size=(1, 1), stride=(1, 1), bias=False)\n",
       "      (bn3): BatchNorm2d(256, eps=1e-05, momentum=0.1, affine=True, track_running_stats=True)\n",
       "      (relu): ReLU(inplace=True)\n",
       "    )\n",
       "  )\n",
       "  (layer2): Sequential(\n",
       "    (0): Bottleneck(\n",
       "      (conv1): Conv2d(256, 128, kernel_size=(1, 1), stride=(1, 1), bias=False)\n",
       "      (bn1): BatchNorm2d(128, eps=1e-05, momentum=0.1, affine=True, track_running_stats=True)\n",
       "      (conv2): Conv2d(128, 128, kernel_size=(3, 3), stride=(2, 2), padding=(1, 1), bias=False)\n",
       "      (bn2): BatchNorm2d(128, eps=1e-05, momentum=0.1, affine=True, track_running_stats=True)\n",
       "      (conv3): Conv2d(128, 512, kernel_size=(1, 1), stride=(1, 1), bias=False)\n",
       "      (bn3): BatchNorm2d(512, eps=1e-05, momentum=0.1, affine=True, track_running_stats=True)\n",
       "      (relu): ReLU(inplace=True)\n",
       "      (downsample): Sequential(\n",
       "        (0): Conv2d(256, 512, kernel_size=(1, 1), stride=(2, 2), bias=False)\n",
       "        (1): BatchNorm2d(512, eps=1e-05, momentum=0.1, affine=True, track_running_stats=True)\n",
       "      )\n",
       "    )\n",
       "    (1): Bottleneck(\n",
       "      (conv1): Conv2d(512, 128, kernel_size=(1, 1), stride=(1, 1), bias=False)\n",
       "      (bn1): BatchNorm2d(128, eps=1e-05, momentum=0.1, affine=True, track_running_stats=True)\n",
       "      (conv2): Conv2d(128, 128, kernel_size=(3, 3), stride=(1, 1), padding=(1, 1), bias=False)\n",
       "      (bn2): BatchNorm2d(128, eps=1e-05, momentum=0.1, affine=True, track_running_stats=True)\n",
       "      (conv3): Conv2d(128, 512, kernel_size=(1, 1), stride=(1, 1), bias=False)\n",
       "      (bn3): BatchNorm2d(512, eps=1e-05, momentum=0.1, affine=True, track_running_stats=True)\n",
       "      (relu): ReLU(inplace=True)\n",
       "    )\n",
       "    (2): Bottleneck(\n",
       "      (conv1): Conv2d(512, 128, kernel_size=(1, 1), stride=(1, 1), bias=False)\n",
       "      (bn1): BatchNorm2d(128, eps=1e-05, momentum=0.1, affine=True, track_running_stats=True)\n",
       "      (conv2): Conv2d(128, 128, kernel_size=(3, 3), stride=(1, 1), padding=(1, 1), bias=False)\n",
       "      (bn2): BatchNorm2d(128, eps=1e-05, momentum=0.1, affine=True, track_running_stats=True)\n",
       "      (conv3): Conv2d(128, 512, kernel_size=(1, 1), stride=(1, 1), bias=False)\n",
       "      (bn3): BatchNorm2d(512, eps=1e-05, momentum=0.1, affine=True, track_running_stats=True)\n",
       "      (relu): ReLU(inplace=True)\n",
       "    )\n",
       "    (3): Bottleneck(\n",
       "      (conv1): Conv2d(512, 128, kernel_size=(1, 1), stride=(1, 1), bias=False)\n",
       "      (bn1): BatchNorm2d(128, eps=1e-05, momentum=0.1, affine=True, track_running_stats=True)\n",
       "      (conv2): Conv2d(128, 128, kernel_size=(3, 3), stride=(1, 1), padding=(1, 1), bias=False)\n",
       "      (bn2): BatchNorm2d(128, eps=1e-05, momentum=0.1, affine=True, track_running_stats=True)\n",
       "      (conv3): Conv2d(128, 512, kernel_size=(1, 1), stride=(1, 1), bias=False)\n",
       "      (bn3): BatchNorm2d(512, eps=1e-05, momentum=0.1, affine=True, track_running_stats=True)\n",
       "      (relu): ReLU(inplace=True)\n",
       "    )\n",
       "  )\n",
       "  (layer3): Sequential(\n",
       "    (0): Bottleneck(\n",
       "      (conv1): Conv2d(512, 256, kernel_size=(1, 1), stride=(1, 1), bias=False)\n",
       "      (bn1): BatchNorm2d(256, eps=1e-05, momentum=0.1, affine=True, track_running_stats=True)\n",
       "      (conv2): Conv2d(256, 256, kernel_size=(3, 3), stride=(2, 2), padding=(1, 1), bias=False)\n",
       "      (bn2): BatchNorm2d(256, eps=1e-05, momentum=0.1, affine=True, track_running_stats=True)\n",
       "      (conv3): Conv2d(256, 1024, kernel_size=(1, 1), stride=(1, 1), bias=False)\n",
       "      (bn3): BatchNorm2d(1024, eps=1e-05, momentum=0.1, affine=True, track_running_stats=True)\n",
       "      (relu): ReLU(inplace=True)\n",
       "      (downsample): Sequential(\n",
       "        (0): Conv2d(512, 1024, kernel_size=(1, 1), stride=(2, 2), bias=False)\n",
       "        (1): BatchNorm2d(1024, eps=1e-05, momentum=0.1, affine=True, track_running_stats=True)\n",
       "      )\n",
       "    )\n",
       "    (1): Bottleneck(\n",
       "      (conv1): Conv2d(1024, 256, kernel_size=(1, 1), stride=(1, 1), bias=False)\n",
       "      (bn1): BatchNorm2d(256, eps=1e-05, momentum=0.1, affine=True, track_running_stats=True)\n",
       "      (conv2): Conv2d(256, 256, kernel_size=(3, 3), stride=(1, 1), padding=(1, 1), bias=False)\n",
       "      (bn2): BatchNorm2d(256, eps=1e-05, momentum=0.1, affine=True, track_running_stats=True)\n",
       "      (conv3): Conv2d(256, 1024, kernel_size=(1, 1), stride=(1, 1), bias=False)\n",
       "      (bn3): BatchNorm2d(1024, eps=1e-05, momentum=0.1, affine=True, track_running_stats=True)\n",
       "      (relu): ReLU(inplace=True)\n",
       "    )\n",
       "    (2): Bottleneck(\n",
       "      (conv1): Conv2d(1024, 256, kernel_size=(1, 1), stride=(1, 1), bias=False)\n",
       "      (bn1): BatchNorm2d(256, eps=1e-05, momentum=0.1, affine=True, track_running_stats=True)\n",
       "      (conv2): Conv2d(256, 256, kernel_size=(3, 3), stride=(1, 1), padding=(1, 1), bias=False)\n",
       "      (bn2): BatchNorm2d(256, eps=1e-05, momentum=0.1, affine=True, track_running_stats=True)\n",
       "      (conv3): Conv2d(256, 1024, kernel_size=(1, 1), stride=(1, 1), bias=False)\n",
       "      (bn3): BatchNorm2d(1024, eps=1e-05, momentum=0.1, affine=True, track_running_stats=True)\n",
       "      (relu): ReLU(inplace=True)\n",
       "    )\n",
       "    (3): Bottleneck(\n",
       "      (conv1): Conv2d(1024, 256, kernel_size=(1, 1), stride=(1, 1), bias=False)\n",
       "      (bn1): BatchNorm2d(256, eps=1e-05, momentum=0.1, affine=True, track_running_stats=True)\n",
       "      (conv2): Conv2d(256, 256, kernel_size=(3, 3), stride=(1, 1), padding=(1, 1), bias=False)\n",
       "      (bn2): BatchNorm2d(256, eps=1e-05, momentum=0.1, affine=True, track_running_stats=True)\n",
       "      (conv3): Conv2d(256, 1024, kernel_size=(1, 1), stride=(1, 1), bias=False)\n",
       "      (bn3): BatchNorm2d(1024, eps=1e-05, momentum=0.1, affine=True, track_running_stats=True)\n",
       "      (relu): ReLU(inplace=True)\n",
       "    )\n",
       "    (4): Bottleneck(\n",
       "      (conv1): Conv2d(1024, 256, kernel_size=(1, 1), stride=(1, 1), bias=False)\n",
       "      (bn1): BatchNorm2d(256, eps=1e-05, momentum=0.1, affine=True, track_running_stats=True)\n",
       "      (conv2): Conv2d(256, 256, kernel_size=(3, 3), stride=(1, 1), padding=(1, 1), bias=False)\n",
       "      (bn2): BatchNorm2d(256, eps=1e-05, momentum=0.1, affine=True, track_running_stats=True)\n",
       "      (conv3): Conv2d(256, 1024, kernel_size=(1, 1), stride=(1, 1), bias=False)\n",
       "      (bn3): BatchNorm2d(1024, eps=1e-05, momentum=0.1, affine=True, track_running_stats=True)\n",
       "      (relu): ReLU(inplace=True)\n",
       "    )\n",
       "    (5): Bottleneck(\n",
       "      (conv1): Conv2d(1024, 256, kernel_size=(1, 1), stride=(1, 1), bias=False)\n",
       "      (bn1): BatchNorm2d(256, eps=1e-05, momentum=0.1, affine=True, track_running_stats=True)\n",
       "      (conv2): Conv2d(256, 256, kernel_size=(3, 3), stride=(1, 1), padding=(1, 1), bias=False)\n",
       "      (bn2): BatchNorm2d(256, eps=1e-05, momentum=0.1, affine=True, track_running_stats=True)\n",
       "      (conv3): Conv2d(256, 1024, kernel_size=(1, 1), stride=(1, 1), bias=False)\n",
       "      (bn3): BatchNorm2d(1024, eps=1e-05, momentum=0.1, affine=True, track_running_stats=True)\n",
       "      (relu): ReLU(inplace=True)\n",
       "    )\n",
       "  )\n",
       "  (layer4): Sequential(\n",
       "    (0): Bottleneck(\n",
       "      (conv1): Conv2d(1024, 512, kernel_size=(1, 1), stride=(1, 1), bias=False)\n",
       "      (bn1): BatchNorm2d(512, eps=1e-05, momentum=0.1, affine=True, track_running_stats=True)\n",
       "      (conv2): Conv2d(512, 512, kernel_size=(3, 3), stride=(2, 2), padding=(1, 1), bias=False)\n",
       "      (bn2): BatchNorm2d(512, eps=1e-05, momentum=0.1, affine=True, track_running_stats=True)\n",
       "      (conv3): Conv2d(512, 2048, kernel_size=(1, 1), stride=(1, 1), bias=False)\n",
       "      (bn3): BatchNorm2d(2048, eps=1e-05, momentum=0.1, affine=True, track_running_stats=True)\n",
       "      (relu): ReLU(inplace=True)\n",
       "      (downsample): Sequential(\n",
       "        (0): Conv2d(1024, 2048, kernel_size=(1, 1), stride=(2, 2), bias=False)\n",
       "        (1): BatchNorm2d(2048, eps=1e-05, momentum=0.1, affine=True, track_running_stats=True)\n",
       "      )\n",
       "    )\n",
       "    (1): Bottleneck(\n",
       "      (conv1): Conv2d(2048, 512, kernel_size=(1, 1), stride=(1, 1), bias=False)\n",
       "      (bn1): BatchNorm2d(512, eps=1e-05, momentum=0.1, affine=True, track_running_stats=True)\n",
       "      (conv2): Conv2d(512, 512, kernel_size=(3, 3), stride=(1, 1), padding=(1, 1), bias=False)\n",
       "      (bn2): BatchNorm2d(512, eps=1e-05, momentum=0.1, affine=True, track_running_stats=True)\n",
       "      (conv3): Conv2d(512, 2048, kernel_size=(1, 1), stride=(1, 1), bias=False)\n",
       "      (bn3): BatchNorm2d(2048, eps=1e-05, momentum=0.1, affine=True, track_running_stats=True)\n",
       "      (relu): ReLU(inplace=True)\n",
       "    )\n",
       "    (2): Bottleneck(\n",
       "      (conv1): Conv2d(2048, 512, kernel_size=(1, 1), stride=(1, 1), bias=False)\n",
       "      (bn1): BatchNorm2d(512, eps=1e-05, momentum=0.1, affine=True, track_running_stats=True)\n",
       "      (conv2): Conv2d(512, 512, kernel_size=(3, 3), stride=(1, 1), padding=(1, 1), bias=False)\n",
       "      (bn2): BatchNorm2d(512, eps=1e-05, momentum=0.1, affine=True, track_running_stats=True)\n",
       "      (conv3): Conv2d(512, 2048, kernel_size=(1, 1), stride=(1, 1), bias=False)\n",
       "      (bn3): BatchNorm2d(2048, eps=1e-05, momentum=0.1, affine=True, track_running_stats=True)\n",
       "      (relu): ReLU(inplace=True)\n",
       "    )\n",
       "  )\n",
       "  (avgpool): AvgPool2d(kernel_size=7, stride=7, padding=0)\n",
       "  (dropout): Dropout(p=0.1, inplace=False)\n",
       "  (fc_angles): Linear(in_features=2048, out_features=2, bias=True)\n",
       ")"
      ]
     },
     "execution_count": 141,
     "metadata": {},
     "output_type": "execute_result"
    }
   ],
   "source": [
    "model = resnet.ResNet(torchvision.models.resnet.Bottleneck, [3, 4, 6, 3], 2)\n",
    "checkpoint = torch.load('auxiliary_models/self_harm-pytorch/models/self_harm/epoch_21.pkl')\n",
    "load_filtered_state_dict(model, checkpoint, ignore_layer=[], reverse=True)\n",
    "model.to(device)"
   ]
  },
  {
   "cell_type": "code",
   "execution_count": 144,
   "metadata": {},
   "outputs": [
    {
     "ename": "FileNotFoundError",
     "evalue": "Found no valid file for the classes non_self_harm, self_harm. Supported extensions are: .jpg, .jpeg, .png, .ppm, .bmp, .pgm, .tif, .tiff, .webp",
     "output_type": "error",
     "traceback": [
      "\u001b[0;31m---------------------------------------------------------------------------\u001b[0m",
      "\u001b[0;31mFileNotFoundError\u001b[0m                         Traceback (most recent call last)",
      "\u001b[0;32m/tmp/ipykernel_1724/881592504.py\u001b[0m in \u001b[0;36m<module>\u001b[0;34m\u001b[0m\n\u001b[1;32m      9\u001b[0m \u001b[0;31m#transform_test = transforms.Compose([transforms.ToTensor()])\u001b[0m\u001b[0;34m\u001b[0m\u001b[0;34m\u001b[0m\u001b[0;34m\u001b[0m\u001b[0m\n\u001b[1;32m     10\u001b[0m \u001b[0;34m\u001b[0m\u001b[0m\n\u001b[0;32m---> 11\u001b[0;31m \u001b[0mtestset\u001b[0m \u001b[0;34m=\u001b[0m \u001b[0mtorchvision\u001b[0m\u001b[0;34m.\u001b[0m\u001b[0mdatasets\u001b[0m\u001b[0;34m.\u001b[0m\u001b[0mImageFolder\u001b[0m\u001b[0;34m(\u001b[0m\u001b[0mtest_path\u001b[0m\u001b[0;34m)\u001b[0m\u001b[0;34m\u001b[0m\u001b[0;34m\u001b[0m\u001b[0m\n\u001b[0m\u001b[1;32m     12\u001b[0m testloader = torch.utils.data.DataLoader(\n\u001b[1;32m     13\u001b[0m     testset, batch_size=1, shuffle=True, num_workers=2)\n",
      "\u001b[0;32m/opt/conda/lib/python3.8/site-packages/torchvision/datasets/folder.py\u001b[0m in \u001b[0;36m__init__\u001b[0;34m(self, root, transform, target_transform, loader, is_valid_file)\u001b[0m\n\u001b[1;32m    308\u001b[0m         \u001b[0mis_valid_file\u001b[0m\u001b[0;34m:\u001b[0m \u001b[0mOptional\u001b[0m\u001b[0;34m[\u001b[0m\u001b[0mCallable\u001b[0m\u001b[0;34m[\u001b[0m\u001b[0;34m[\u001b[0m\u001b[0mstr\u001b[0m\u001b[0;34m]\u001b[0m\u001b[0;34m,\u001b[0m \u001b[0mbool\u001b[0m\u001b[0;34m]\u001b[0m\u001b[0;34m]\u001b[0m \u001b[0;34m=\u001b[0m \u001b[0;32mNone\u001b[0m\u001b[0;34m,\u001b[0m\u001b[0;34m\u001b[0m\u001b[0;34m\u001b[0m\u001b[0m\n\u001b[1;32m    309\u001b[0m     ):\n\u001b[0;32m--> 310\u001b[0;31m         super().__init__(\n\u001b[0m\u001b[1;32m    311\u001b[0m             \u001b[0mroot\u001b[0m\u001b[0;34m,\u001b[0m\u001b[0;34m\u001b[0m\u001b[0;34m\u001b[0m\u001b[0m\n\u001b[1;32m    312\u001b[0m             \u001b[0mloader\u001b[0m\u001b[0;34m,\u001b[0m\u001b[0;34m\u001b[0m\u001b[0;34m\u001b[0m\u001b[0m\n",
      "\u001b[0;32m/opt/conda/lib/python3.8/site-packages/torchvision/datasets/folder.py\u001b[0m in \u001b[0;36m__init__\u001b[0;34m(self, root, loader, extensions, transform, target_transform, is_valid_file)\u001b[0m\n\u001b[1;32m    144\u001b[0m         \u001b[0msuper\u001b[0m\u001b[0;34m(\u001b[0m\u001b[0;34m)\u001b[0m\u001b[0;34m.\u001b[0m\u001b[0m__init__\u001b[0m\u001b[0;34m(\u001b[0m\u001b[0mroot\u001b[0m\u001b[0;34m,\u001b[0m \u001b[0mtransform\u001b[0m\u001b[0;34m=\u001b[0m\u001b[0mtransform\u001b[0m\u001b[0;34m,\u001b[0m \u001b[0mtarget_transform\u001b[0m\u001b[0;34m=\u001b[0m\u001b[0mtarget_transform\u001b[0m\u001b[0;34m)\u001b[0m\u001b[0;34m\u001b[0m\u001b[0;34m\u001b[0m\u001b[0m\n\u001b[1;32m    145\u001b[0m         \u001b[0mclasses\u001b[0m\u001b[0;34m,\u001b[0m \u001b[0mclass_to_idx\u001b[0m \u001b[0;34m=\u001b[0m \u001b[0mself\u001b[0m\u001b[0;34m.\u001b[0m\u001b[0mfind_classes\u001b[0m\u001b[0;34m(\u001b[0m\u001b[0mself\u001b[0m\u001b[0;34m.\u001b[0m\u001b[0mroot\u001b[0m\u001b[0;34m)\u001b[0m\u001b[0;34m\u001b[0m\u001b[0;34m\u001b[0m\u001b[0m\n\u001b[0;32m--> 146\u001b[0;31m         \u001b[0msamples\u001b[0m \u001b[0;34m=\u001b[0m \u001b[0mself\u001b[0m\u001b[0;34m.\u001b[0m\u001b[0mmake_dataset\u001b[0m\u001b[0;34m(\u001b[0m\u001b[0mself\u001b[0m\u001b[0;34m.\u001b[0m\u001b[0mroot\u001b[0m\u001b[0;34m,\u001b[0m \u001b[0mclass_to_idx\u001b[0m\u001b[0;34m,\u001b[0m \u001b[0mextensions\u001b[0m\u001b[0;34m,\u001b[0m \u001b[0mis_valid_file\u001b[0m\u001b[0;34m)\u001b[0m\u001b[0;34m\u001b[0m\u001b[0;34m\u001b[0m\u001b[0m\n\u001b[0m\u001b[1;32m    147\u001b[0m \u001b[0;34m\u001b[0m\u001b[0m\n\u001b[1;32m    148\u001b[0m         \u001b[0mself\u001b[0m\u001b[0;34m.\u001b[0m\u001b[0mloader\u001b[0m \u001b[0;34m=\u001b[0m \u001b[0mloader\u001b[0m\u001b[0;34m\u001b[0m\u001b[0;34m\u001b[0m\u001b[0m\n",
      "\u001b[0;32m/opt/conda/lib/python3.8/site-packages/torchvision/datasets/folder.py\u001b[0m in \u001b[0;36mmake_dataset\u001b[0;34m(directory, class_to_idx, extensions, is_valid_file)\u001b[0m\n\u001b[1;32m    188\u001b[0m             \u001b[0;31m# is potentially overridden and thus could have a different logic.\u001b[0m\u001b[0;34m\u001b[0m\u001b[0;34m\u001b[0m\u001b[0;34m\u001b[0m\u001b[0m\n\u001b[1;32m    189\u001b[0m             \u001b[0;32mraise\u001b[0m \u001b[0mValueError\u001b[0m\u001b[0;34m(\u001b[0m\u001b[0;34m\"The class_to_idx parameter cannot be None.\"\u001b[0m\u001b[0;34m)\u001b[0m\u001b[0;34m\u001b[0m\u001b[0;34m\u001b[0m\u001b[0m\n\u001b[0;32m--> 190\u001b[0;31m         \u001b[0;32mreturn\u001b[0m \u001b[0mmake_dataset\u001b[0m\u001b[0;34m(\u001b[0m\u001b[0mdirectory\u001b[0m\u001b[0;34m,\u001b[0m \u001b[0mclass_to_idx\u001b[0m\u001b[0;34m,\u001b[0m \u001b[0mextensions\u001b[0m\u001b[0;34m=\u001b[0m\u001b[0mextensions\u001b[0m\u001b[0;34m,\u001b[0m \u001b[0mis_valid_file\u001b[0m\u001b[0;34m=\u001b[0m\u001b[0mis_valid_file\u001b[0m\u001b[0;34m)\u001b[0m\u001b[0;34m\u001b[0m\u001b[0;34m\u001b[0m\u001b[0m\n\u001b[0m\u001b[1;32m    191\u001b[0m \u001b[0;34m\u001b[0m\u001b[0m\n\u001b[1;32m    192\u001b[0m     \u001b[0;32mdef\u001b[0m \u001b[0mfind_classes\u001b[0m\u001b[0;34m(\u001b[0m\u001b[0mself\u001b[0m\u001b[0;34m,\u001b[0m \u001b[0mdirectory\u001b[0m\u001b[0;34m:\u001b[0m \u001b[0mstr\u001b[0m\u001b[0;34m)\u001b[0m \u001b[0;34m->\u001b[0m \u001b[0mTuple\u001b[0m\u001b[0;34m[\u001b[0m\u001b[0mList\u001b[0m\u001b[0;34m[\u001b[0m\u001b[0mstr\u001b[0m\u001b[0;34m]\u001b[0m\u001b[0;34m,\u001b[0m \u001b[0mDict\u001b[0m\u001b[0;34m[\u001b[0m\u001b[0mstr\u001b[0m\u001b[0;34m,\u001b[0m \u001b[0mint\u001b[0m\u001b[0;34m]\u001b[0m\u001b[0;34m]\u001b[0m\u001b[0;34m:\u001b[0m\u001b[0;34m\u001b[0m\u001b[0;34m\u001b[0m\u001b[0m\n",
      "\u001b[0;32m/opt/conda/lib/python3.8/site-packages/torchvision/datasets/folder.py\u001b[0m in \u001b[0;36mmake_dataset\u001b[0;34m(directory, class_to_idx, extensions, is_valid_file)\u001b[0m\n\u001b[1;32m    101\u001b[0m         \u001b[0;32mif\u001b[0m \u001b[0mextensions\u001b[0m \u001b[0;32mis\u001b[0m \u001b[0;32mnot\u001b[0m \u001b[0;32mNone\u001b[0m\u001b[0;34m:\u001b[0m\u001b[0;34m\u001b[0m\u001b[0;34m\u001b[0m\u001b[0m\n\u001b[1;32m    102\u001b[0m             \u001b[0mmsg\u001b[0m \u001b[0;34m+=\u001b[0m \u001b[0;34mf\"Supported extensions are: {extensions if isinstance(extensions, str) else ', '.join(extensions)}\"\u001b[0m\u001b[0;34m\u001b[0m\u001b[0;34m\u001b[0m\u001b[0m\n\u001b[0;32m--> 103\u001b[0;31m         \u001b[0;32mraise\u001b[0m \u001b[0mFileNotFoundError\u001b[0m\u001b[0;34m(\u001b[0m\u001b[0mmsg\u001b[0m\u001b[0;34m)\u001b[0m\u001b[0;34m\u001b[0m\u001b[0;34m\u001b[0m\u001b[0m\n\u001b[0m\u001b[1;32m    104\u001b[0m \u001b[0;34m\u001b[0m\u001b[0m\n\u001b[1;32m    105\u001b[0m     \u001b[0;32mreturn\u001b[0m \u001b[0minstances\u001b[0m\u001b[0;34m\u001b[0m\u001b[0;34m\u001b[0m\u001b[0m\n",
      "\u001b[0;31mFileNotFoundError\u001b[0m: Found no valid file for the classes non_self_harm, self_harm. Supported extensions are: .jpg, .jpeg, .png, .ppm, .bmp, .pgm, .tif, .tiff, .webp"
     ]
    }
   ],
   "source": [
    "test_path = 'non_robust_classifiers/self_harm_attacked'\n",
    "\n",
    "# transform_test = transforms.Compose([transforms.ToTensor()])\n",
    "\n",
    "# testset = torchvision.datasets.ImageFolder(test_path, transform=transform_test)\n",
    "# testloader = torch.utils.data.DataLoader(\n",
    "#     testset, batch_size=1, shuffle=True, num_workers=2)\n",
    "\n",
    "#transform_test = transforms.Compose([transforms.ToTensor()])\n",
    "\n",
    "testset = torchvision.datasets.ImageFolder(test_path)\n",
    "testloader = torch.utils.data.DataLoader(\n",
    "    testset, batch_size=1, shuffle=True, num_workers=2)"
   ]
  },
  {
   "cell_type": "code",
   "execution_count": null,
   "metadata": {},
   "outputs": [],
   "source": [
    "correct = 0\n",
    "total_samples = 0\n",
    "for batch_idx, (inputs, targets) in enumerate(testloader):\n",
    "        inputs, targets = inputs, targets\n",
    "        \n",
    "        label = targets.item()\n",
    "        outputs = model(inputs.to(device))\n",
    "        _, predicted = outputs.max(1)\n",
    "        pred_val = predicted.item()\n",
    "    \n",
    "        total_samples += 1\n",
    "        if pred_val == label:\n",
    "            correct += 1\n",
    "        \n",
    "\n",
    "print(correct / total_samples)"
   ]
  },
  {
   "cell_type": "code",
   "execution_count": 172,
   "metadata": {},
   "outputs": [
    {
     "name": "stdout",
     "output_type": "stream",
     "text": [
      "0.5294117647058824\n"
     ]
    }
   ],
   "source": [
    "torch.manual_seed(0)\n",
    "correct = 0\n",
    "total_samples = 0\n",
    "\n",
    "\n",
    "atk = torchattacks.PGD(model, eps=16/255, alpha=2/255, steps=200, random_start=True)\n",
    "#atk = torchattacks.Square(model, eps=16/255, n_queries=500, n_restarts=1, loss='ce')\n",
    "#atk = torchattacks.AutoAttack(model, eps=8/255, n_classes=2, version='standard')\n",
    "#atk = torchattacks.PGD(model, eps=8/255, alpha=2/255, steps=100, random_start=True)\n",
    "adv_image = atk(images, labels)\n",
    "\n",
    "\n",
    "for batch_idx, (inputs, targets) in enumerate(testloader):\n",
    "    inputs, targets = inputs, targets\n",
    "    #print(type(targets.item()))\n",
    "    adv_image = atk(inputs, targets)\n",
    "    \n",
    "    label = labels.item()\n",
    "        \n",
    "    outputs = model(adv_image.to(device))\n",
    "    _, predicted = outputs.max(1)\n",
    "    pred_val = predicted.item()\n",
    "    \n",
    "    total_samples += 1\n",
    "    if pred_val == label:\n",
    "        correct += 1\n",
    "    \n",
    "    if total_samples > 50:\n",
    "        break\n",
    "    \n",
    "print(correct / total_samples)"
   ]
  },
  {
   "cell_type": "code",
   "execution_count": 177,
   "metadata": {},
   "outputs": [
    {
     "name": "stdout",
     "output_type": "stream",
     "text": [
      "0.36363636363636365\n"
     ]
    }
   ],
   "source": [
    "torch.manual_seed(1)\n",
    "correct = 0\n",
    "total_samples = 0\n",
    "\n",
    "\n",
    "#atk = torchattacks.PGD(model, eps=16/255, alpha=2/255, steps=100, random_start=True)\n",
    "atk = torchattacks.Square(model, eps=16/255, n_queries=500, n_restarts=1, loss='ce')\n",
    "#atk = torchattacks.AutoAttack(model, eps=8/255, n_classes=2, version='standard')\n",
    "#atk = torchattacks.PGD(model, eps=8/255, alpha=2/255, steps=100, random_start=True)\n",
    "adv_image = atk(images, labels)\n",
    "\n",
    "\n",
    "for batch_idx, (inputs, targets) in enumerate(testloader):\n",
    "    inputs, targets = inputs, targets\n",
    "    #print(type(targets.item()))\n",
    "    adv_image = atk(inputs, targets)\n",
    "    \n",
    "    label = labels.item()\n",
    "        \n",
    "    outputs = model(adv_image.to(device))\n",
    "    _, predicted = outputs.max(1)\n",
    "    pred_val = predicted.item()\n",
    "    \n",
    "    total_samples += 1\n",
    "    if pred_val == label:\n",
    "        correct += 1\n",
    "    \n",
    "    if total_samples > 10:\n",
    "        break\n",
    "    \n",
    "print(correct / total_samples)"
   ]
  },
  {
   "cell_type": "code",
   "execution_count": 171,
   "metadata": {},
   "outputs": [
    {
     "name": "stdout",
     "output_type": "stream",
     "text": [
      "<class 'int'>\n",
      "torch.Size([1, 3, 299, 299])\n",
      "<class 'int'>\n",
      "torch.Size([1, 3, 299, 299])\n",
      "<class 'int'>\n",
      "torch.Size([1, 3, 299, 299])\n",
      "<class 'int'>\n",
      "torch.Size([1, 3, 299, 299])\n",
      "<class 'int'>\n",
      "torch.Size([1, 3, 299, 299])\n"
     ]
    },
    {
     "ename": "IndexError",
     "evalue": "index -3 is out of bounds for dimension 1 with size 2",
     "output_type": "error",
     "traceback": [
      "\u001b[0;31m---------------------------------------------------------------------------\u001b[0m",
      "\u001b[0;31mIndexError\u001b[0m                                Traceback (most recent call last)",
      "\u001b[0;32m/tmp/ipykernel_1724/1675044413.py\u001b[0m in \u001b[0;36m<module>\u001b[0;34m\u001b[0m\n\u001b[1;32m     15\u001b[0m     \u001b[0mprint\u001b[0m\u001b[0;34m(\u001b[0m\u001b[0mtype\u001b[0m\u001b[0;34m(\u001b[0m\u001b[0mtargets\u001b[0m\u001b[0;34m.\u001b[0m\u001b[0mitem\u001b[0m\u001b[0;34m(\u001b[0m\u001b[0;34m)\u001b[0m\u001b[0;34m)\u001b[0m\u001b[0;34m)\u001b[0m\u001b[0;34m\u001b[0m\u001b[0;34m\u001b[0m\u001b[0m\n\u001b[1;32m     16\u001b[0m     \u001b[0mprint\u001b[0m\u001b[0;34m(\u001b[0m\u001b[0minputs\u001b[0m\u001b[0;34m.\u001b[0m\u001b[0msize\u001b[0m\u001b[0;34m(\u001b[0m\u001b[0;34m)\u001b[0m\u001b[0;34m)\u001b[0m\u001b[0;34m\u001b[0m\u001b[0;34m\u001b[0m\u001b[0m\n\u001b[0;32m---> 17\u001b[0;31m     \u001b[0madv_image\u001b[0m \u001b[0;34m=\u001b[0m \u001b[0matk\u001b[0m\u001b[0;34m(\u001b[0m\u001b[0minputs\u001b[0m\u001b[0;34m,\u001b[0m \u001b[0mtargets\u001b[0m\u001b[0;34m)\u001b[0m\u001b[0;34m\u001b[0m\u001b[0;34m\u001b[0m\u001b[0m\n\u001b[0m\u001b[1;32m     18\u001b[0m \u001b[0;34m\u001b[0m\u001b[0m\n\u001b[1;32m     19\u001b[0m     \u001b[0mlabel\u001b[0m \u001b[0;34m=\u001b[0m \u001b[0mlabels\u001b[0m\u001b[0;34m.\u001b[0m\u001b[0mitem\u001b[0m\u001b[0;34m(\u001b[0m\u001b[0;34m)\u001b[0m\u001b[0;34m\u001b[0m\u001b[0;34m\u001b[0m\u001b[0m\n",
      "\u001b[0;32m/opt/conda/lib/python3.8/site-packages/torchattacks/attack.py\u001b[0m in \u001b[0;36m__call__\u001b[0;34m(self, *input, **kwargs)\u001b[0m\n\u001b[1;32m    321\u001b[0m             \u001b[0mself\u001b[0m\u001b[0;34m.\u001b[0m\u001b[0mmodel\u001b[0m\u001b[0;34m.\u001b[0m\u001b[0meval\u001b[0m\u001b[0;34m(\u001b[0m\u001b[0;34m)\u001b[0m\u001b[0;34m\u001b[0m\u001b[0;34m\u001b[0m\u001b[0m\n\u001b[1;32m    322\u001b[0m \u001b[0;34m\u001b[0m\u001b[0m\n\u001b[0;32m--> 323\u001b[0;31m         \u001b[0mimages\u001b[0m \u001b[0;34m=\u001b[0m \u001b[0mself\u001b[0m\u001b[0;34m.\u001b[0m\u001b[0mforward\u001b[0m\u001b[0;34m(\u001b[0m\u001b[0;34m*\u001b[0m\u001b[0minput\u001b[0m\u001b[0;34m,\u001b[0m \u001b[0;34m**\u001b[0m\u001b[0mkwargs\u001b[0m\u001b[0;34m)\u001b[0m\u001b[0;34m\u001b[0m\u001b[0;34m\u001b[0m\u001b[0m\n\u001b[0m\u001b[1;32m    324\u001b[0m \u001b[0;34m\u001b[0m\u001b[0m\n\u001b[1;32m    325\u001b[0m         \u001b[0;32mif\u001b[0m \u001b[0mgiven_training\u001b[0m\u001b[0;34m:\u001b[0m\u001b[0;34m\u001b[0m\u001b[0;34m\u001b[0m\u001b[0m\n",
      "\u001b[0;32m/opt/conda/lib/python3.8/site-packages/torchattacks/attacks/autoattack.py\u001b[0m in \u001b[0;36mforward\u001b[0;34m(self, images, labels)\u001b[0m\n\u001b[1;32m     79\u001b[0m         \u001b[0mimages\u001b[0m \u001b[0;34m=\u001b[0m \u001b[0mimages\u001b[0m\u001b[0;34m.\u001b[0m\u001b[0mclone\u001b[0m\u001b[0;34m(\u001b[0m\u001b[0;34m)\u001b[0m\u001b[0;34m.\u001b[0m\u001b[0mdetach\u001b[0m\u001b[0;34m(\u001b[0m\u001b[0;34m)\u001b[0m\u001b[0;34m.\u001b[0m\u001b[0mto\u001b[0m\u001b[0;34m(\u001b[0m\u001b[0mself\u001b[0m\u001b[0;34m.\u001b[0m\u001b[0mdevice\u001b[0m\u001b[0;34m)\u001b[0m\u001b[0;34m\u001b[0m\u001b[0;34m\u001b[0m\u001b[0m\n\u001b[1;32m     80\u001b[0m         \u001b[0mlabels\u001b[0m \u001b[0;34m=\u001b[0m \u001b[0mlabels\u001b[0m\u001b[0;34m.\u001b[0m\u001b[0mclone\u001b[0m\u001b[0;34m(\u001b[0m\u001b[0;34m)\u001b[0m\u001b[0;34m.\u001b[0m\u001b[0mdetach\u001b[0m\u001b[0;34m(\u001b[0m\u001b[0;34m)\u001b[0m\u001b[0;34m.\u001b[0m\u001b[0mto\u001b[0m\u001b[0;34m(\u001b[0m\u001b[0mself\u001b[0m\u001b[0;34m.\u001b[0m\u001b[0mdevice\u001b[0m\u001b[0;34m)\u001b[0m\u001b[0;34m\u001b[0m\u001b[0;34m\u001b[0m\u001b[0m\n\u001b[0;32m---> 81\u001b[0;31m         \u001b[0madv_images\u001b[0m \u001b[0;34m=\u001b[0m \u001b[0mself\u001b[0m\u001b[0;34m.\u001b[0m\u001b[0mautoattack\u001b[0m\u001b[0;34m(\u001b[0m\u001b[0mimages\u001b[0m\u001b[0;34m,\u001b[0m \u001b[0mlabels\u001b[0m\u001b[0;34m)\u001b[0m\u001b[0;34m\u001b[0m\u001b[0;34m\u001b[0m\u001b[0m\n\u001b[0m\u001b[1;32m     82\u001b[0m \u001b[0;34m\u001b[0m\u001b[0m\n\u001b[1;32m     83\u001b[0m         \u001b[0;32mreturn\u001b[0m \u001b[0madv_images\u001b[0m\u001b[0;34m\u001b[0m\u001b[0;34m\u001b[0m\u001b[0m\n",
      "\u001b[0;32m/opt/conda/lib/python3.8/site-packages/torchattacks/attack.py\u001b[0m in \u001b[0;36m__call__\u001b[0;34m(self, *input, **kwargs)\u001b[0m\n\u001b[1;32m    321\u001b[0m             \u001b[0mself\u001b[0m\u001b[0;34m.\u001b[0m\u001b[0mmodel\u001b[0m\u001b[0;34m.\u001b[0m\u001b[0meval\u001b[0m\u001b[0;34m(\u001b[0m\u001b[0;34m)\u001b[0m\u001b[0;34m\u001b[0m\u001b[0;34m\u001b[0m\u001b[0m\n\u001b[1;32m    322\u001b[0m \u001b[0;34m\u001b[0m\u001b[0m\n\u001b[0;32m--> 323\u001b[0;31m         \u001b[0mimages\u001b[0m \u001b[0;34m=\u001b[0m \u001b[0mself\u001b[0m\u001b[0;34m.\u001b[0m\u001b[0mforward\u001b[0m\u001b[0;34m(\u001b[0m\u001b[0;34m*\u001b[0m\u001b[0minput\u001b[0m\u001b[0;34m,\u001b[0m \u001b[0;34m**\u001b[0m\u001b[0mkwargs\u001b[0m\u001b[0;34m)\u001b[0m\u001b[0;34m\u001b[0m\u001b[0;34m\u001b[0m\u001b[0m\n\u001b[0m\u001b[1;32m    324\u001b[0m \u001b[0;34m\u001b[0m\u001b[0m\n\u001b[1;32m    325\u001b[0m         \u001b[0;32mif\u001b[0m \u001b[0mgiven_training\u001b[0m\u001b[0;34m:\u001b[0m\u001b[0;34m\u001b[0m\u001b[0;34m\u001b[0m\u001b[0m\n",
      "\u001b[0;32m/opt/conda/lib/python3.8/site-packages/torchattacks/attacks/multiattack.py\u001b[0m in \u001b[0;36mforward\u001b[0;34m(self, images, labels)\u001b[0m\n\u001b[1;32m     49\u001b[0m \u001b[0;34m\u001b[0m\u001b[0m\n\u001b[1;32m     50\u001b[0m         \u001b[0;32mfor\u001b[0m \u001b[0m_\u001b[0m\u001b[0;34m,\u001b[0m \u001b[0mattack\u001b[0m \u001b[0;32min\u001b[0m \u001b[0menumerate\u001b[0m\u001b[0;34m(\u001b[0m\u001b[0mself\u001b[0m\u001b[0;34m.\u001b[0m\u001b[0mattacks\u001b[0m\u001b[0;34m)\u001b[0m\u001b[0;34m:\u001b[0m\u001b[0;34m\u001b[0m\u001b[0;34m\u001b[0m\u001b[0m\n\u001b[0;32m---> 51\u001b[0;31m             \u001b[0madv_images\u001b[0m \u001b[0;34m=\u001b[0m \u001b[0mattack\u001b[0m\u001b[0;34m(\u001b[0m\u001b[0mimages\u001b[0m\u001b[0;34m[\u001b[0m\u001b[0mfails\u001b[0m\u001b[0;34m]\u001b[0m\u001b[0;34m,\u001b[0m \u001b[0mlabels\u001b[0m\u001b[0;34m[\u001b[0m\u001b[0mfails\u001b[0m\u001b[0;34m]\u001b[0m\u001b[0;34m)\u001b[0m\u001b[0;34m\u001b[0m\u001b[0;34m\u001b[0m\u001b[0m\n\u001b[0m\u001b[1;32m     52\u001b[0m \u001b[0;34m\u001b[0m\u001b[0m\n\u001b[1;32m     53\u001b[0m             \u001b[0moutputs\u001b[0m \u001b[0;34m=\u001b[0m \u001b[0mself\u001b[0m\u001b[0;34m.\u001b[0m\u001b[0mmodel\u001b[0m\u001b[0;34m(\u001b[0m\u001b[0madv_images\u001b[0m\u001b[0;34m)\u001b[0m\u001b[0;34m\u001b[0m\u001b[0;34m\u001b[0m\u001b[0m\n",
      "\u001b[0;32m/opt/conda/lib/python3.8/site-packages/torchattacks/attack.py\u001b[0m in \u001b[0;36m__call__\u001b[0;34m(self, *input, **kwargs)\u001b[0m\n\u001b[1;32m    321\u001b[0m             \u001b[0mself\u001b[0m\u001b[0;34m.\u001b[0m\u001b[0mmodel\u001b[0m\u001b[0;34m.\u001b[0m\u001b[0meval\u001b[0m\u001b[0;34m(\u001b[0m\u001b[0;34m)\u001b[0m\u001b[0;34m\u001b[0m\u001b[0;34m\u001b[0m\u001b[0m\n\u001b[1;32m    322\u001b[0m \u001b[0;34m\u001b[0m\u001b[0m\n\u001b[0;32m--> 323\u001b[0;31m         \u001b[0mimages\u001b[0m \u001b[0;34m=\u001b[0m \u001b[0mself\u001b[0m\u001b[0;34m.\u001b[0m\u001b[0mforward\u001b[0m\u001b[0;34m(\u001b[0m\u001b[0;34m*\u001b[0m\u001b[0minput\u001b[0m\u001b[0;34m,\u001b[0m \u001b[0;34m**\u001b[0m\u001b[0mkwargs\u001b[0m\u001b[0;34m)\u001b[0m\u001b[0;34m\u001b[0m\u001b[0;34m\u001b[0m\u001b[0m\n\u001b[0m\u001b[1;32m    324\u001b[0m \u001b[0;34m\u001b[0m\u001b[0m\n\u001b[1;32m    325\u001b[0m         \u001b[0;32mif\u001b[0m \u001b[0mgiven_training\u001b[0m\u001b[0;34m:\u001b[0m\u001b[0;34m\u001b[0m\u001b[0;34m\u001b[0m\u001b[0m\n",
      "\u001b[0;32m/opt/conda/lib/python3.8/site-packages/torchattacks/attacks/apgdt.py\u001b[0m in \u001b[0;36mforward\u001b[0;34m(self, images, labels)\u001b[0m\n\u001b[1;32m     60\u001b[0m         \u001b[0mimages\u001b[0m \u001b[0;34m=\u001b[0m \u001b[0mimages\u001b[0m\u001b[0;34m.\u001b[0m\u001b[0mclone\u001b[0m\u001b[0;34m(\u001b[0m\u001b[0;34m)\u001b[0m\u001b[0;34m.\u001b[0m\u001b[0mdetach\u001b[0m\u001b[0;34m(\u001b[0m\u001b[0;34m)\u001b[0m\u001b[0;34m.\u001b[0m\u001b[0mto\u001b[0m\u001b[0;34m(\u001b[0m\u001b[0mself\u001b[0m\u001b[0;34m.\u001b[0m\u001b[0mdevice\u001b[0m\u001b[0;34m)\u001b[0m\u001b[0;34m\u001b[0m\u001b[0;34m\u001b[0m\u001b[0m\n\u001b[1;32m     61\u001b[0m         \u001b[0mlabels\u001b[0m \u001b[0;34m=\u001b[0m \u001b[0mlabels\u001b[0m\u001b[0;34m.\u001b[0m\u001b[0mclone\u001b[0m\u001b[0;34m(\u001b[0m\u001b[0;34m)\u001b[0m\u001b[0;34m.\u001b[0m\u001b[0mdetach\u001b[0m\u001b[0;34m(\u001b[0m\u001b[0;34m)\u001b[0m\u001b[0;34m.\u001b[0m\u001b[0mto\u001b[0m\u001b[0;34m(\u001b[0m\u001b[0mself\u001b[0m\u001b[0;34m.\u001b[0m\u001b[0mdevice\u001b[0m\u001b[0;34m)\u001b[0m\u001b[0;34m\u001b[0m\u001b[0;34m\u001b[0m\u001b[0m\n\u001b[0;32m---> 62\u001b[0;31m         \u001b[0m_\u001b[0m\u001b[0;34m,\u001b[0m \u001b[0madv_images\u001b[0m \u001b[0;34m=\u001b[0m \u001b[0mself\u001b[0m\u001b[0;34m.\u001b[0m\u001b[0mperturb\u001b[0m\u001b[0;34m(\u001b[0m\u001b[0mimages\u001b[0m\u001b[0;34m,\u001b[0m \u001b[0mlabels\u001b[0m\u001b[0;34m,\u001b[0m \u001b[0mcheap\u001b[0m\u001b[0;34m=\u001b[0m\u001b[0;32mTrue\u001b[0m\u001b[0;34m)\u001b[0m\u001b[0;34m\u001b[0m\u001b[0;34m\u001b[0m\u001b[0m\n\u001b[0m\u001b[1;32m     63\u001b[0m \u001b[0;34m\u001b[0m\u001b[0m\n\u001b[1;32m     64\u001b[0m         \u001b[0;32mreturn\u001b[0m \u001b[0madv_images\u001b[0m\u001b[0;34m\u001b[0m\u001b[0;34m\u001b[0m\u001b[0m\n",
      "\u001b[0;32m/opt/conda/lib/python3.8/site-packages/torchattacks/attacks/apgdt.py\u001b[0m in \u001b[0;36mperturb\u001b[0;34m(self, x_in, y_in, best_loss, cheap)\u001b[0m\n\u001b[1;32m    235\u001b[0m                     \u001b[0;32mif\u001b[0m \u001b[0mind_to_fool\u001b[0m\u001b[0;34m.\u001b[0m\u001b[0mnumel\u001b[0m\u001b[0;34m(\u001b[0m\u001b[0;34m)\u001b[0m \u001b[0;34m!=\u001b[0m \u001b[0;36m0\u001b[0m\u001b[0;34m:\u001b[0m\u001b[0;34m\u001b[0m\u001b[0;34m\u001b[0m\u001b[0m\n\u001b[1;32m    236\u001b[0m                         \u001b[0mx_to_fool\u001b[0m\u001b[0;34m,\u001b[0m \u001b[0my_to_fool\u001b[0m \u001b[0;34m=\u001b[0m \u001b[0mx\u001b[0m\u001b[0;34m[\u001b[0m\u001b[0mind_to_fool\u001b[0m\u001b[0;34m]\u001b[0m\u001b[0;34m.\u001b[0m\u001b[0mclone\u001b[0m\u001b[0;34m(\u001b[0m\u001b[0;34m)\u001b[0m\u001b[0;34m,\u001b[0m \u001b[0my\u001b[0m\u001b[0;34m[\u001b[0m\u001b[0mind_to_fool\u001b[0m\u001b[0;34m]\u001b[0m\u001b[0;34m.\u001b[0m\u001b[0mclone\u001b[0m\u001b[0;34m(\u001b[0m\u001b[0;34m)\u001b[0m\u001b[0;34m\u001b[0m\u001b[0;34m\u001b[0m\u001b[0m\n\u001b[0;32m--> 237\u001b[0;31m                         \u001b[0mbest_curr\u001b[0m\u001b[0;34m,\u001b[0m \u001b[0macc_curr\u001b[0m\u001b[0;34m,\u001b[0m \u001b[0mloss_curr\u001b[0m\u001b[0;34m,\u001b[0m \u001b[0madv_curr\u001b[0m \u001b[0;34m=\u001b[0m \u001b[0mself\u001b[0m\u001b[0;34m.\u001b[0m\u001b[0mattack_single_run\u001b[0m\u001b[0;34m(\u001b[0m\u001b[0mx_to_fool\u001b[0m\u001b[0;34m,\u001b[0m \u001b[0my_to_fool\u001b[0m\u001b[0;34m)\u001b[0m\u001b[0;34m\u001b[0m\u001b[0;34m\u001b[0m\u001b[0m\n\u001b[0m\u001b[1;32m    238\u001b[0m                         \u001b[0mind_curr\u001b[0m \u001b[0;34m=\u001b[0m \u001b[0;34m(\u001b[0m\u001b[0macc_curr\u001b[0m \u001b[0;34m==\u001b[0m \u001b[0;36m0\u001b[0m\u001b[0;34m)\u001b[0m\u001b[0;34m.\u001b[0m\u001b[0mnonzero\u001b[0m\u001b[0;34m(\u001b[0m\u001b[0;34m)\u001b[0m\u001b[0;34m.\u001b[0m\u001b[0msqueeze\u001b[0m\u001b[0;34m(\u001b[0m\u001b[0;34m)\u001b[0m\u001b[0;34m\u001b[0m\u001b[0;34m\u001b[0m\u001b[0m\n\u001b[1;32m    239\u001b[0m                         \u001b[0;31m#\u001b[0m\u001b[0;34m\u001b[0m\u001b[0;34m\u001b[0m\u001b[0;34m\u001b[0m\u001b[0m\n",
      "\u001b[0;32m/opt/conda/lib/python3.8/site-packages/torchattacks/attacks/apgdt.py\u001b[0m in \u001b[0;36mattack_single_run\u001b[0;34m(self, x_in, y_in)\u001b[0m\n\u001b[1;32m    108\u001b[0m             \u001b[0;32mwith\u001b[0m \u001b[0mtorch\u001b[0m\u001b[0;34m.\u001b[0m\u001b[0menable_grad\u001b[0m\u001b[0;34m(\u001b[0m\u001b[0;34m)\u001b[0m\u001b[0;34m:\u001b[0m\u001b[0;34m\u001b[0m\u001b[0;34m\u001b[0m\u001b[0m\n\u001b[1;32m    109\u001b[0m                 \u001b[0mlogits\u001b[0m \u001b[0;34m=\u001b[0m \u001b[0mself\u001b[0m\u001b[0;34m.\u001b[0m\u001b[0mmodel\u001b[0m\u001b[0;34m(\u001b[0m\u001b[0mx_adv\u001b[0m\u001b[0;34m)\u001b[0m \u001b[0;31m# 1 forward pass (eot_iter = 1)\u001b[0m\u001b[0;34m\u001b[0m\u001b[0;34m\u001b[0m\u001b[0m\n\u001b[0;32m--> 110\u001b[0;31m                 \u001b[0mloss_indiv\u001b[0m \u001b[0;34m=\u001b[0m \u001b[0mself\u001b[0m\u001b[0;34m.\u001b[0m\u001b[0mdlr_loss_targeted\u001b[0m\u001b[0;34m(\u001b[0m\u001b[0mlogits\u001b[0m\u001b[0;34m,\u001b[0m \u001b[0my\u001b[0m\u001b[0;34m,\u001b[0m \u001b[0my_target\u001b[0m\u001b[0;34m)\u001b[0m\u001b[0;34m\u001b[0m\u001b[0;34m\u001b[0m\u001b[0m\n\u001b[0m\u001b[1;32m    111\u001b[0m                 \u001b[0mloss\u001b[0m \u001b[0;34m=\u001b[0m \u001b[0mloss_indiv\u001b[0m\u001b[0;34m.\u001b[0m\u001b[0msum\u001b[0m\u001b[0;34m(\u001b[0m\u001b[0;34m)\u001b[0m\u001b[0;34m\u001b[0m\u001b[0;34m\u001b[0m\u001b[0m\n\u001b[1;32m    112\u001b[0m \u001b[0;34m\u001b[0m\u001b[0m\n",
      "\u001b[0;32m/opt/conda/lib/python3.8/site-packages/torchattacks/attacks/apgdt.py\u001b[0m in \u001b[0;36mdlr_loss_targeted\u001b[0;34m(self, x, y, y_target)\u001b[0m\n\u001b[1;32m     77\u001b[0m         \u001b[0mx_sorted\u001b[0m\u001b[0;34m,\u001b[0m \u001b[0mind_sorted\u001b[0m \u001b[0;34m=\u001b[0m \u001b[0mx\u001b[0m\u001b[0;34m.\u001b[0m\u001b[0msort\u001b[0m\u001b[0;34m(\u001b[0m\u001b[0mdim\u001b[0m\u001b[0;34m=\u001b[0m\u001b[0;36m1\u001b[0m\u001b[0;34m)\u001b[0m\u001b[0;34m\u001b[0m\u001b[0;34m\u001b[0m\u001b[0m\n\u001b[1;32m     78\u001b[0m \u001b[0;34m\u001b[0m\u001b[0m\n\u001b[0;32m---> 79\u001b[0;31m         \u001b[0;32mreturn\u001b[0m \u001b[0;34m-\u001b[0m\u001b[0;34m(\u001b[0m\u001b[0mx\u001b[0m\u001b[0;34m[\u001b[0m\u001b[0mnp\u001b[0m\u001b[0;34m.\u001b[0m\u001b[0marange\u001b[0m\u001b[0;34m(\u001b[0m\u001b[0mx\u001b[0m\u001b[0;34m.\u001b[0m\u001b[0mshape\u001b[0m\u001b[0;34m[\u001b[0m\u001b[0;36m0\u001b[0m\u001b[0;34m]\u001b[0m\u001b[0;34m)\u001b[0m\u001b[0;34m,\u001b[0m \u001b[0my\u001b[0m\u001b[0;34m]\u001b[0m \u001b[0;34m-\u001b[0m \u001b[0mx\u001b[0m\u001b[0;34m[\u001b[0m\u001b[0mnp\u001b[0m\u001b[0;34m.\u001b[0m\u001b[0marange\u001b[0m\u001b[0;34m(\u001b[0m\u001b[0mx\u001b[0m\u001b[0;34m.\u001b[0m\u001b[0mshape\u001b[0m\u001b[0;34m[\u001b[0m\u001b[0;36m0\u001b[0m\u001b[0;34m]\u001b[0m\u001b[0;34m)\u001b[0m\u001b[0;34m,\u001b[0m \u001b[0my_target\u001b[0m\u001b[0;34m]\u001b[0m\u001b[0;34m)\u001b[0m \u001b[0;34m/\u001b[0m \u001b[0;34m(\u001b[0m\u001b[0mx_sorted\u001b[0m\u001b[0;34m[\u001b[0m\u001b[0;34m:\u001b[0m\u001b[0;34m,\u001b[0m \u001b[0;34m-\u001b[0m\u001b[0;36m1\u001b[0m\u001b[0;34m]\u001b[0m \u001b[0;34m-\u001b[0m \u001b[0;36m.5\u001b[0m \u001b[0;34m*\u001b[0m \u001b[0mx_sorted\u001b[0m\u001b[0;34m[\u001b[0m\u001b[0;34m:\u001b[0m\u001b[0;34m,\u001b[0m \u001b[0;34m-\u001b[0m\u001b[0;36m3\u001b[0m\u001b[0;34m]\u001b[0m \u001b[0;34m-\u001b[0m \u001b[0;36m.5\u001b[0m \u001b[0;34m*\u001b[0m \u001b[0mx_sorted\u001b[0m\u001b[0;34m[\u001b[0m\u001b[0;34m:\u001b[0m\u001b[0;34m,\u001b[0m \u001b[0;34m-\u001b[0m\u001b[0;36m4\u001b[0m\u001b[0;34m]\u001b[0m \u001b[0;34m+\u001b[0m \u001b[0;36m1e-12\u001b[0m\u001b[0;34m)\u001b[0m\u001b[0;34m\u001b[0m\u001b[0;34m\u001b[0m\u001b[0m\n\u001b[0m\u001b[1;32m     80\u001b[0m \u001b[0;34m\u001b[0m\u001b[0m\n\u001b[1;32m     81\u001b[0m     \u001b[0;32mdef\u001b[0m \u001b[0mattack_single_run\u001b[0m\u001b[0;34m(\u001b[0m\u001b[0mself\u001b[0m\u001b[0;34m,\u001b[0m \u001b[0mx_in\u001b[0m\u001b[0;34m,\u001b[0m \u001b[0my_in\u001b[0m\u001b[0;34m)\u001b[0m\u001b[0;34m:\u001b[0m\u001b[0;34m\u001b[0m\u001b[0;34m\u001b[0m\u001b[0m\n",
      "\u001b[0;31mIndexError\u001b[0m: index -3 is out of bounds for dimension 1 with size 2"
     ]
    }
   ],
   "source": [
    "torch.manual_seed(0)\n",
    "correct = 0\n",
    "total_samples = 0\n",
    "\n",
    "\n",
    "#atk = torchattacks.PGD(model, eps=16/255, alpha=2/255, steps=100, random_start=True)\n",
    "#atk = torchattacks.Square(model, eps=16/255, n_queries=500, n_restarts=1, loss='ce')\n",
    "atk = torchattacks.AutoAttack(model, eps=8/255, n_classes=2, version='standard')\n",
    "#atk = torchattacks.PGD(model, eps=8/255, alpha=2/255, steps=100, random_start=True)\n",
    "adv_image = atk(images, labels)\n",
    "\n",
    "\n",
    "for batch_idx, (inputs, targets) in enumerate(testloader):\n",
    "    inputs, targets = inputs, targets\n",
    "    print(type(targets.item()))\n",
    "    print(inputs.size())\n",
    "    adv_image = atk(inputs, targets)\n",
    "    \n",
    "    label = labels.item()\n",
    "        \n",
    "    outputs = model(adv_image.to(device))\n",
    "    _, predicted = outputs.max(1)\n",
    "    pred_val = predicted.item()\n",
    "    \n",
    "    total_samples += 1\n",
    "    if pred_val == label:\n",
    "        correct += 1\n",
    "    \n",
    "    if total_samples > 50:\n",
    "        break\n",
    "    \n",
    "print(correct / total_samples)"
   ]
  },
  {
   "cell_type": "code",
   "execution_count": 62,
   "metadata": {},
   "outputs": [
    {
     "ename": "TypeError",
     "evalue": "Caught TypeError in DataLoader worker process 0.\nOriginal Traceback (most recent call last):\n  File \"/opt/conda/lib/python3.8/site-packages/torch/utils/data/_utils/worker.py\", line 287, in _worker_loop\n    data = fetcher.fetch(index)\n  File \"/opt/conda/lib/python3.8/site-packages/torch/utils/data/_utils/fetch.py\", line 49, in fetch\n    data = [self.dataset[idx] for idx in possibly_batched_index]\n  File \"/opt/conda/lib/python3.8/site-packages/torch/utils/data/_utils/fetch.py\", line 49, in <listcomp>\n    data = [self.dataset[idx] for idx in possibly_batched_index]\n  File \"/opt/conda/lib/python3.8/site-packages/torchvision/datasets/folder.py\", line 232, in __getitem__\n    sample = self.transform(sample)\n  File \"/opt/conda/lib/python3.8/site-packages/torchvision/transforms/transforms.py\", line 94, in __call__\n    for t in self.transforms:\nTypeError: 'ToTensor' object is not iterable\n",
     "output_type": "error",
     "traceback": [
      "\u001b[0;31m---------------------------------------------------------------------------\u001b[0m",
      "\u001b[0;31mTypeError\u001b[0m                                 Traceback (most recent call last)",
      "\u001b[0;32m/tmp/ipykernel_1724/1648059425.py\u001b[0m in \u001b[0;36m<module>\u001b[0;34m\u001b[0m\n\u001b[0;32m----> 1\u001b[0;31m \u001b[0mimages\u001b[0m\u001b[0;34m,\u001b[0m \u001b[0mlabels\u001b[0m \u001b[0;34m=\u001b[0m \u001b[0mnext\u001b[0m\u001b[0;34m(\u001b[0m\u001b[0mitertools\u001b[0m\u001b[0;34m.\u001b[0m\u001b[0mislice\u001b[0m\u001b[0;34m(\u001b[0m\u001b[0mtestloader\u001b[0m\u001b[0;34m,\u001b[0m \u001b[0;36m1\u001b[0m\u001b[0;34m,\u001b[0m \u001b[0;32mNone\u001b[0m\u001b[0;34m)\u001b[0m\u001b[0;34m)\u001b[0m\u001b[0;34m\u001b[0m\u001b[0;34m\u001b[0m\u001b[0m\n\u001b[0m\u001b[1;32m      2\u001b[0m \u001b[0;31m# For Self harm, 1 is self harm class\u001b[0m\u001b[0;34m\u001b[0m\u001b[0;34m\u001b[0m\u001b[0;34m\u001b[0m\u001b[0m\n\u001b[1;32m      3\u001b[0m \u001b[0mprint\u001b[0m\u001b[0;34m(\u001b[0m\u001b[0mlabels\u001b[0m\u001b[0;34m)\u001b[0m\u001b[0;34m\u001b[0m\u001b[0;34m\u001b[0m\u001b[0m\n",
      "\u001b[0;32m/opt/conda/lib/python3.8/site-packages/torch/utils/data/dataloader.py\u001b[0m in \u001b[0;36m__next__\u001b[0;34m(self)\u001b[0m\n\u001b[1;32m    528\u001b[0m             \u001b[0;32mif\u001b[0m \u001b[0mself\u001b[0m\u001b[0;34m.\u001b[0m\u001b[0m_sampler_iter\u001b[0m \u001b[0;32mis\u001b[0m \u001b[0;32mNone\u001b[0m\u001b[0;34m:\u001b[0m\u001b[0;34m\u001b[0m\u001b[0;34m\u001b[0m\u001b[0m\n\u001b[1;32m    529\u001b[0m                 \u001b[0mself\u001b[0m\u001b[0;34m.\u001b[0m\u001b[0m_reset\u001b[0m\u001b[0;34m(\u001b[0m\u001b[0;34m)\u001b[0m\u001b[0;34m\u001b[0m\u001b[0;34m\u001b[0m\u001b[0m\n\u001b[0;32m--> 530\u001b[0;31m             \u001b[0mdata\u001b[0m \u001b[0;34m=\u001b[0m \u001b[0mself\u001b[0m\u001b[0;34m.\u001b[0m\u001b[0m_next_data\u001b[0m\u001b[0;34m(\u001b[0m\u001b[0;34m)\u001b[0m\u001b[0;34m\u001b[0m\u001b[0;34m\u001b[0m\u001b[0m\n\u001b[0m\u001b[1;32m    531\u001b[0m             \u001b[0mself\u001b[0m\u001b[0;34m.\u001b[0m\u001b[0m_num_yielded\u001b[0m \u001b[0;34m+=\u001b[0m \u001b[0;36m1\u001b[0m\u001b[0;34m\u001b[0m\u001b[0;34m\u001b[0m\u001b[0m\n\u001b[1;32m    532\u001b[0m             \u001b[0;32mif\u001b[0m \u001b[0mself\u001b[0m\u001b[0;34m.\u001b[0m\u001b[0m_dataset_kind\u001b[0m \u001b[0;34m==\u001b[0m \u001b[0m_DatasetKind\u001b[0m\u001b[0;34m.\u001b[0m\u001b[0mIterable\u001b[0m \u001b[0;32mand\u001b[0m\u001b[0;31m \u001b[0m\u001b[0;31m\\\u001b[0m\u001b[0;34m\u001b[0m\u001b[0;34m\u001b[0m\u001b[0m\n",
      "\u001b[0;32m/opt/conda/lib/python3.8/site-packages/torch/utils/data/dataloader.py\u001b[0m in \u001b[0;36m_next_data\u001b[0;34m(self)\u001b[0m\n\u001b[1;32m   1222\u001b[0m             \u001b[0;32melse\u001b[0m\u001b[0;34m:\u001b[0m\u001b[0;34m\u001b[0m\u001b[0;34m\u001b[0m\u001b[0m\n\u001b[1;32m   1223\u001b[0m                 \u001b[0;32mdel\u001b[0m \u001b[0mself\u001b[0m\u001b[0;34m.\u001b[0m\u001b[0m_task_info\u001b[0m\u001b[0;34m[\u001b[0m\u001b[0midx\u001b[0m\u001b[0;34m]\u001b[0m\u001b[0;34m\u001b[0m\u001b[0;34m\u001b[0m\u001b[0m\n\u001b[0;32m-> 1224\u001b[0;31m                 \u001b[0;32mreturn\u001b[0m \u001b[0mself\u001b[0m\u001b[0;34m.\u001b[0m\u001b[0m_process_data\u001b[0m\u001b[0;34m(\u001b[0m\u001b[0mdata\u001b[0m\u001b[0;34m)\u001b[0m\u001b[0;34m\u001b[0m\u001b[0;34m\u001b[0m\u001b[0m\n\u001b[0m\u001b[1;32m   1225\u001b[0m \u001b[0;34m\u001b[0m\u001b[0m\n\u001b[1;32m   1226\u001b[0m     \u001b[0;32mdef\u001b[0m \u001b[0m_try_put_index\u001b[0m\u001b[0;34m(\u001b[0m\u001b[0mself\u001b[0m\u001b[0;34m)\u001b[0m\u001b[0;34m:\u001b[0m\u001b[0;34m\u001b[0m\u001b[0;34m\u001b[0m\u001b[0m\n",
      "\u001b[0;32m/opt/conda/lib/python3.8/site-packages/torch/utils/data/dataloader.py\u001b[0m in \u001b[0;36m_process_data\u001b[0;34m(self, data)\u001b[0m\n\u001b[1;32m   1248\u001b[0m         \u001b[0mself\u001b[0m\u001b[0;34m.\u001b[0m\u001b[0m_try_put_index\u001b[0m\u001b[0;34m(\u001b[0m\u001b[0;34m)\u001b[0m\u001b[0;34m\u001b[0m\u001b[0;34m\u001b[0m\u001b[0m\n\u001b[1;32m   1249\u001b[0m         \u001b[0;32mif\u001b[0m \u001b[0misinstance\u001b[0m\u001b[0;34m(\u001b[0m\u001b[0mdata\u001b[0m\u001b[0;34m,\u001b[0m \u001b[0mExceptionWrapper\u001b[0m\u001b[0;34m)\u001b[0m\u001b[0;34m:\u001b[0m\u001b[0;34m\u001b[0m\u001b[0;34m\u001b[0m\u001b[0m\n\u001b[0;32m-> 1250\u001b[0;31m             \u001b[0mdata\u001b[0m\u001b[0;34m.\u001b[0m\u001b[0mreraise\u001b[0m\u001b[0;34m(\u001b[0m\u001b[0;34m)\u001b[0m\u001b[0;34m\u001b[0m\u001b[0;34m\u001b[0m\u001b[0m\n\u001b[0m\u001b[1;32m   1251\u001b[0m         \u001b[0;32mreturn\u001b[0m \u001b[0mdata\u001b[0m\u001b[0;34m\u001b[0m\u001b[0;34m\u001b[0m\u001b[0m\n\u001b[1;32m   1252\u001b[0m \u001b[0;34m\u001b[0m\u001b[0m\n",
      "\u001b[0;32m/opt/conda/lib/python3.8/site-packages/torch/_utils.py\u001b[0m in \u001b[0;36mreraise\u001b[0;34m(self)\u001b[0m\n\u001b[1;32m    455\u001b[0m             \u001b[0;31m# instantiate since we don't know how to\u001b[0m\u001b[0;34m\u001b[0m\u001b[0;34m\u001b[0m\u001b[0;34m\u001b[0m\u001b[0m\n\u001b[1;32m    456\u001b[0m             \u001b[0;32mraise\u001b[0m \u001b[0mRuntimeError\u001b[0m\u001b[0;34m(\u001b[0m\u001b[0mmsg\u001b[0m\u001b[0;34m)\u001b[0m \u001b[0;32mfrom\u001b[0m \u001b[0;32mNone\u001b[0m\u001b[0;34m\u001b[0m\u001b[0;34m\u001b[0m\u001b[0m\n\u001b[0;32m--> 457\u001b[0;31m         \u001b[0;32mraise\u001b[0m \u001b[0mexception\u001b[0m\u001b[0;34m\u001b[0m\u001b[0;34m\u001b[0m\u001b[0m\n\u001b[0m\u001b[1;32m    458\u001b[0m \u001b[0;34m\u001b[0m\u001b[0m\n\u001b[1;32m    459\u001b[0m \u001b[0;34m\u001b[0m\u001b[0m\n",
      "\u001b[0;31mTypeError\u001b[0m: Caught TypeError in DataLoader worker process 0.\nOriginal Traceback (most recent call last):\n  File \"/opt/conda/lib/python3.8/site-packages/torch/utils/data/_utils/worker.py\", line 287, in _worker_loop\n    data = fetcher.fetch(index)\n  File \"/opt/conda/lib/python3.8/site-packages/torch/utils/data/_utils/fetch.py\", line 49, in fetch\n    data = [self.dataset[idx] for idx in possibly_batched_index]\n  File \"/opt/conda/lib/python3.8/site-packages/torch/utils/data/_utils/fetch.py\", line 49, in <listcomp>\n    data = [self.dataset[idx] for idx in possibly_batched_index]\n  File \"/opt/conda/lib/python3.8/site-packages/torchvision/datasets/folder.py\", line 232, in __getitem__\n    sample = self.transform(sample)\n  File \"/opt/conda/lib/python3.8/site-packages/torchvision/transforms/transforms.py\", line 94, in __call__\n    for t in self.transforms:\nTypeError: 'ToTensor' object is not iterable\n"
     ]
    }
   ],
   "source": [
    "images, labels = next(itertools.islice(testloader, 1, None))\n",
    "# For Self harm, 1 is self harm class\n",
    "print(labels)"
   ]
  },
  {
   "cell_type": "code",
   "execution_count": null,
   "metadata": {},
   "outputs": [],
   "source": [
    "# saved_model = 'self_harm_model/ResNet_SH_7.pth'\n",
    "# num_classes = 2\n",
    "\n",
    "# cudnn.enabled = True\n",
    "# model = resnet.ResNet(torchvision.models.resnet.Bottleneck, [3, 4, 6, 3], num_classes).to(device)\n",
    "# saved_state_dict = torch.load(saved_model)\n",
    "# load_filtered_state_dict(model, saved_state_dict, ignore_layer=[], reverse=False)\n",
    "# model.eval()"
   ]
  },
  {
   "cell_type": "code",
   "execution_count": 18,
   "metadata": {},
   "outputs": [],
   "source": [
    "def shuffle(datas, labels):\n",
    "    idx = np.random.permutation(len(datas))\n",
    "    x = [datas[i] for i in idx]\n",
    "    y = [labels[i] for i in idx]\n",
    "    return x,y\n",
    "\n",
    "def get_dataset(path, disorder=True):\n",
    "    classes_names = [ name for name in os.listdir(path) if os.path.isdir(os.path.join(path, name)) ]\n",
    "    classes_names = sorted(classes_names)\n",
    "    datas = []\n",
    "    classes = []\n",
    "    t = int(0)\n",
    "    for c in classes_names:\n",
    "        datas += glob.glob(os.path.join(path, c, '*.jpg'))\n",
    "        datas += glob.glob(os.path.join(path, c, '*.jpeg'))\n",
    "        datas += glob.glob(os.path.join(path, c, '*.png'))\n",
    "        classes += [t for i in range(len(datas))]\n",
    "        t += 1\n",
    "    if disorder:\n",
    "        datas, classes = shuffle(datas, classes)\n",
    "    return datas, classes, classes_names"
   ]
  },
  {
   "cell_type": "code",
   "execution_count": 6,
   "metadata": {},
   "outputs": [
    {
     "data": {
      "text/plain": [
       "\"\\n#%debug\\npath = path_test\\ntransformations = transforms.Compose([transforms.Resize(320),\\n                                      transforms.RandomCrop(299), transforms.ToTensor(),\\n                                      transforms.Normalize(mean=[0.485, 0.456, 0.406], std=[0.229, 0.224, 0.225])])\\ndatas, classes, classes_names = get_dataset(path)\\ndataset = DataWrapper(datas, classes, transformations)\\ndata_loader = torch.utils.data.DataLoader(dataset = dataset, batch_size=1, shuffle=True, num_workers=1)\\nprint(data_loader)\\nfor i, (image, label, name) in enumerate(data_loader):\\n    print(i, end='')\\n\""
      ]
     },
     "execution_count": 6,
     "metadata": {},
     "output_type": "execute_result"
    }
   ],
   "source": [
    "\"\"\"\n",
    "#%debug\n",
    "path = path_test\n",
    "transformations = transforms.Compose([transforms.Resize(320),\n",
    "                                      transforms.RandomCrop(299), transforms.ToTensor(),\n",
    "                                      transforms.Normalize(mean=[0.485, 0.456, 0.406], std=[0.229, 0.224, 0.225])])\n",
    "datas, classes, classes_names = get_dataset(path)\n",
    "dataset = DataWrapper(datas, classes, transformations)\n",
    "data_loader = torch.utils.data.DataLoader(dataset = dataset, batch_size=1, shuffle=True, num_workers=1)\n",
    "print(data_loader)\n",
    "for i, (image, label, name) in enumerate(data_loader):\n",
    "    print(i, end='')\n",
    "\"\"\""
   ]
  },
  {
   "cell_type": "code",
   "execution_count": 16,
   "metadata": {},
   "outputs": [],
   "source": [
    "#path_test_cb = '../../../../../cyberbullying_purification/cyberbullying_data_splits_clean/test/cyberbullying'\n",
    "#path_test_ncb = '../../../../../cyberbullying_purification/cyberbullying_data_splits_clean/test/non_cyberbullying'\n",
    "#path_train_cb = '../../../../../cyberbullying_purification/cyberbullying_data_splits_clean/train/cyberbullying'\n",
    "#path_train_ncb = '../../../../../cyberbullying_purification/cyberbullying_data_splits_clean/train/non_cyberbullying'\n",
    "\n",
    "path_test = '/datasets/self_harm/test/'\n",
    "path_train = '/datasets/self_harm/train/'"
   ]
  },
  {
   "cell_type": "code",
   "execution_count": 17,
   "metadata": {},
   "outputs": [],
   "source": [
    "#save_path_test_cb = '../../../../data/cyberbullying/attacked/test/cyberbullying/'\n",
    "#save_path_test_ncb = '../../../../data/cyberbullying/attacked/test/non_cyberbullying/'\n",
    "#save_path_train_cb = '../../../../data/cyberbullying/attacked/train/cyberbullying/'\n",
    "#save_path_train_ncb = '../../../../data/cyberbullying/attacked/train/non_cyberbullying/'\n",
    "\n",
    "save_path_test = '../../../../data/self_harm/attacked/test/'\n",
    "save_path_train = '../../../../data/self_harm/attacked/train/'"
   ]
  },
  {
   "cell_type": "code",
   "execution_count": null,
   "metadata": {},
   "outputs": [],
   "source": []
  },
  {
   "cell_type": "code",
   "execution_count": 18,
   "metadata": {},
   "outputs": [],
   "source": [
    "#move to samuel_src/cyberbullying\n",
    "#%debug\n",
    "def attack_path(atk_path, save_path, model, cap):    \n",
    "    transformations = transforms.Compose([transforms.Resize(320),\n",
    "                                          transforms.RandomCrop(299), transforms.ToTensor(),\n",
    "                                          transforms.Normalize(mean=[0.485, 0.456, 0.406], std=[0.229, 0.224, 0.225])])\n",
    "    \n",
    "    invTrans = transforms.Compose([ transforms.Normalize(mean = [ 0., 0., 0. ],\n",
    "                                                         std = [ 1/0.229, 1/0.224, 1/0.225 ]),\n",
    "                                   transforms.Normalize(mean = [ -0.485, -0.456, -0.406 ],\n",
    "                                                        std = [ 1., 1., 1. ])])\n",
    "    X, Y, class_names = get_dataset(atk_path)\n",
    "    dataset = DataWrapper(X, Y, transformations)\n",
    "    data_loader = torch.utils.data.DataLoader(dataset=dataset,\n",
    "                                              batch_size=1,\n",
    "                                              shuffle=True,\n",
    "                                              num_workers=1)\n",
    "    gb = GaussianBlur(7, sigma = 3)\n",
    "    # create folder if not existent\n",
    "    if not os.path.exists(save_path):\n",
    "        os.makedirs(save_path)\n",
    "    if not os.path.exists(save_path+class_names[0]):\n",
    "        os.makedirs(save_path+class_names[0])\n",
    "    if not os.path.exists(save_path+class_names[1]):\n",
    "        os.makedirs(save_path+class_names[1])\n",
    "    skipped = []\n",
    "    \n",
    "\n",
    "    \n",
    "    for i, (image, label, name) in enumerate(data_loader):\n",
    "        save_name = str(i) + '_'\n",
    "        # get a random attack\n",
    "        atk_list = ['Clean', 'PGD', 'Square', 'AutoAttack']\n",
    "        probs = [0.40, 0.20, 0.20, 0.20]\n",
    "        blur_list = ['gb', 'ngb']\n",
    "        blur_probs = [0.5, 0.5]\n",
    "        attack_name = np.random.choice(atk_list, 1, p=probs)[0]\n",
    "        save_name += attack_name\n",
    "        # if clean save the image as is\n",
    "        if attack_name == 'Clean':\n",
    "            atk = torchattacks.VANILA(model)\n",
    "        # else\n",
    "        else:\n",
    "            # set the attack\n",
    "            if attack_name == 'PGD':\n",
    "                atk = torchattacks.PGD(model, eps=8/255, alpha=2/255, steps=100, random_start=True)\n",
    "            elif attack_name == 'Square':\n",
    "                atk = torchattacks.Square(model, eps=16/255, n_queries=10000, n_restarts=1, loss='ce')\n",
    "            elif attack_name == 'AutoAttack':\n",
    "                atk = torchattacks.AutoAttack(model, eps=8/255, n_classes=2, version='standard')\n",
    "        # launch attack\n",
    "        if image.shape == (224,224,4):\n",
    "            image = image[:, :, :3]\n",
    "        try:\n",
    "            adv_img = atk(image, label)\n",
    "            blur_decision = np.random.choice(blur_list, 1, p=blur_probs)\n",
    "            if blur_decision == 'gb':\n",
    "                adv_img = gb(adv_img)\n",
    "                save_name += '_gb'\n",
    "            adv_img = invTrans(adv_img)\n",
    "            torchvision.utils.save_image(adv_img, save_path + class_names[int(label[0])] + '/' + save_name + '.png')\n",
    "        except:\n",
    "            skipped.append((name, attack_name, i))\n",
    "            #print('error: {}\\n\\tattack:{}\\t{}'.format(name, attack_name, i))\n",
    "        if i >= cap:\n",
    "            break\n",
    "    return skipped"
   ]
  },
  {
   "cell_type": "code",
   "execution_count": 19,
   "metadata": {},
   "outputs": [
    {
     "name": "stdout",
     "output_type": "stream",
     "text": [
      "error: ('../../../../../cyberbullying_purification/samuel_src/datasets/self_harm/test/non_self_harm/8ca4ca9f34ce4fd9bbacac60fba71393.jpg',)\n",
      "\tattack:AutoAttack\t25\n",
      "error: ('../../../../../cyberbullying_purification/samuel_src/datasets/self_harm/test/non_self_harm/8fe5e391f84b4193a2da0f8774fb3562.png',)\n",
      "\tattack:AutoAttack\t65\n",
      "error: ('../../../../../cyberbullying_purification/samuel_src/datasets/self_harm/test/non_self_harm/8c15fcecc92b4f1ca9fe0be1c1c03758.jpg',)\n",
      "\tattack:AutoAttack\t217\n",
      "error: ('../../../../../cyberbullying_purification/samuel_src/datasets/self_harm/test/non_self_harm/8dcb464b962f49969a28abf153978d31.jpg',)\n",
      "\tattack:AutoAttack\t227\n",
      "error: ('../../../../../cyberbullying_purification/samuel_src/datasets/self_harm/test/non_self_harm/9a82e53779e842189be78af2a484e30c.jpg',)\n",
      "\tattack:AutoAttack\t255\n",
      "error: ('../../../../../cyberbullying_purification/samuel_src/datasets/self_harm/test/non_self_harm/8c7a30a6add14bd99b3f28f744169cd3.jpg',)\n",
      "\tattack:AutoAttack\t260\n",
      "error: ('../../../../../cyberbullying_purification/samuel_src/datasets/self_harm/test/non_self_harm/8f3fdb6cd7374b82b9a32fa45eb2313f.jpg',)\n",
      "\tattack:AutoAttack\t301\n",
      "error: ('../../../../../cyberbullying_purification/samuel_src/datasets/self_harm/test/non_self_harm/9a151ae838a340d981b9c9dfd85a42dd.jpg',)\n",
      "\tattack:AutoAttack\t333\n",
      "error: ('../../../../../cyberbullying_purification/samuel_src/datasets/self_harm/test/non_self_harm/8b32339aac704b1c94b4b8830126bc05.jpg',)\n",
      "\tattack:AutoAttack\t448\n",
      "error: ('../../../../../cyberbullying_purification/samuel_src/datasets/self_harm/test/non_self_harm/8ead6cd91b5941afb7f6a017d950d394.jpg',)\n",
      "\tattack:AutoAttack\t456\n",
      "error: ('../../../../../cyberbullying_purification/samuel_src/datasets/self_harm/test/non_self_harm/08e244c347cf44a9a5ac7cce94a36880.jpg',)\n",
      "\tattack:AutoAttack\t476\n",
      "error: ('../../../../../cyberbullying_purification/samuel_src/datasets/self_harm/train/non_self_harm/7c85e59897af4928a75f4c30b29511bd.jpg',)\n",
      "\tattack:AutoAttack\t82\n",
      "error: ('../../../../../cyberbullying_purification/samuel_src/datasets/self_harm/train/non_self_harm/1c75c294c03c4ba095fe9375005bc534.jpg',)\n",
      "\tattack:AutoAttack\t134\n",
      "error: ('../../../../../cyberbullying_purification/samuel_src/datasets/self_harm/train/non_self_harm/5bd3dfbf827d4ee4bd2b55a8060985e7.jpg',)\n",
      "\tattack:AutoAttack\t181\n",
      "error: ('../../../../../cyberbullying_purification/samuel_src/datasets/self_harm/train/non_self_harm/2e618ed503264dccac8474059199873a.jpg',)\n",
      "\tattack:AutoAttack\t230\n",
      "error: ('../../../../../cyberbullying_purification/samuel_src/datasets/self_harm/train/non_self_harm/3dcd19767f054b2aad255a3720821538.jpg',)\n",
      "\tattack:AutoAttack\t262\n",
      "error: ('../../../../../cyberbullying_purification/samuel_src/datasets/self_harm/train/non_self_harm/6bf550b1154346a0ba456950d33dd278.jpg',)\n",
      "\tattack:AutoAttack\t318\n",
      "error: ('../../../../../cyberbullying_purification/samuel_src/datasets/self_harm/train/non_self_harm/4f7dadae6ae84d4c9772c5cd9a68b33d.jpg',)\n",
      "\tattack:AutoAttack\t369\n",
      "error: ('../../../../../cyberbullying_purification/samuel_src/datasets/self_harm/train/non_self_harm/5a07e0047dae4c46a0405a8eb4c21f3c.jpg',)\n",
      "\tattack:AutoAttack\t394\n",
      "error: ('../../../../../cyberbullying_purification/samuel_src/datasets/self_harm/train/non_self_harm/1a4eb485abaa43258fa7972753722315.jpg',)\n",
      "\tattack:AutoAttack\t405\n",
      "error: ('../../../../../cyberbullying_purification/samuel_src/datasets/self_harm/train/non_self_harm/4c35fd9a1e80497f82aa49b716c3dace.jpg',)\n",
      "\tattack:AutoAttack\t415\n",
      "error: ('../../../../../cyberbullying_purification/samuel_src/datasets/self_harm/train/non_self_harm/0c47cea49b47432ebe14d21c1d804c1a.jpg',)\n",
      "\tattack:AutoAttack\t459\n",
      "error: ('../../../../../cyberbullying_purification/samuel_src/datasets/self_harm/train/non_self_harm/05ec271422704f999a4cd68bccd17252.jpg',)\n",
      "\tattack:AutoAttack\t463\n",
      "error: ('../../../../../cyberbullying_purification/samuel_src/datasets/self_harm/train/non_self_harm/1b369ad026684dd9b5cdd748f30e522b.jpg',)\n",
      "\tattack:AutoAttack\t483\n",
      "error: ('../../../../../cyberbullying_purification/samuel_src/datasets/self_harm/train/non_self_harm/3b691594e0fa4f81a509975c696b8014.png',)\n",
      "\tattack:AutoAttack\t489\n",
      "error: ('../../../../../cyberbullying_purification/samuel_src/datasets/self_harm/train/non_self_harm/5a52a7dc19c24ae49890347b82c0697c.png',)\n",
      "\tattack:AutoAttack\t574\n",
      "error: ('../../../../../cyberbullying_purification/samuel_src/datasets/self_harm/train/non_self_harm/0bf636775bfb43d2b20e5a3e3582f51e.png',)\n",
      "\tattack:AutoAttack\t575\n",
      "error: ('../../../../../cyberbullying_purification/samuel_src/datasets/self_harm/train/non_self_harm/7c6aea961f254ac49f64b07364fbf081.jpg',)\n",
      "\tattack:AutoAttack\t589\n",
      "error: ('../../../../../cyberbullying_purification/samuel_src/datasets/self_harm/train/non_self_harm/0a1922d7af764b11b791133f6edfee4c.jpg',)\n",
      "\tattack:AutoAttack\t648\n",
      "error: ('../../../../../cyberbullying_purification/samuel_src/datasets/self_harm/train/non_self_harm/5a6a4720ce5442c5a00ae716adf5880b.jpg',)\n",
      "\tattack:AutoAttack\t698\n",
      "error: ('../../../../../cyberbullying_purification/samuel_src/datasets/self_harm/train/non_self_harm/2b25cdd746e447ea9520bd3a329de171.jpg',)\n",
      "\tattack:AutoAttack\t704\n",
      "error: ('../../../../../cyberbullying_purification/samuel_src/datasets/self_harm/train/non_self_harm/3f2978082ed147e6a38dffe2aaea1807.png',)\n",
      "\tattack:AutoAttack\t711\n",
      "error: ('../../../../../cyberbullying_purification/samuel_src/datasets/self_harm/train/non_self_harm/1ecba4c09fe34725aa2155b033865521.jpg',)\n",
      "\tattack:AutoAttack\t748\n",
      "error: ('../../../../../cyberbullying_purification/samuel_src/datasets/self_harm/train/non_self_harm/4cbfad44fa5f47dcab6ae57469ea1261.jpg',)\n",
      "\tattack:AutoAttack\t777\n",
      "error: ('../../../../../cyberbullying_purification/samuel_src/datasets/self_harm/train/non_self_harm/1bee65bbb05f4f448d2e38ec275c263d.jpg',)\n",
      "\tattack:AutoAttack\t844\n",
      "error: ('../../../../../cyberbullying_purification/samuel_src/datasets/self_harm/train/non_self_harm/4bfaf7251789429d8b28629f56ddf3cc.jpg',)\n",
      "\tattack:AutoAttack\t860\n",
      "error: ('../../../../../cyberbullying_purification/samuel_src/datasets/self_harm/train/non_self_harm/04df9ab4a8374bc1a0dfcb575402d24d.jpg',)\n",
      "\tattack:AutoAttack\t877\n",
      "error: ('../../../../../cyberbullying_purification/samuel_src/datasets/self_harm/train/non_self_harm/06a1d6ceba924f5eb4ecd1c1db6afe70.jpg',)\n",
      "\tattack:AutoAttack\t895\n",
      "error: ('../../../../../cyberbullying_purification/samuel_src/datasets/self_harm/train/non_self_harm/1d56ec68b4af4c3e9daeeea30ac77ae7.jpg',)\n",
      "\tattack:AutoAttack\t956\n",
      "error: ('../../../../../cyberbullying_purification/samuel_src/datasets/self_harm/train/non_self_harm/3ad69a216ef340a5a0f7f4dd117f8f86.jpg',)\n",
      "\tattack:AutoAttack\t977\n",
      "error: ('../../../../../cyberbullying_purification/samuel_src/datasets/self_harm/train/non_self_harm/4bbeff91488e494db11d3dfbba0ccb63.jpg',)\n",
      "\tattack:AutoAttack\t980\n",
      "error: ('../../../../../cyberbullying_purification/samuel_src/datasets/self_harm/train/non_self_harm/1de769d75c63431b8eef018b987aea26.jpg',)\n",
      "\tattack:AutoAttack\t995\n",
      "error: ('../../../../../cyberbullying_purification/samuel_src/datasets/self_harm/train/non_self_harm/1e09882e2b934d47aa3e0a91ac6ea753.jpg',)\n",
      "\tattack:AutoAttack\t1129\n",
      "error: ('../../../../../cyberbullying_purification/samuel_src/datasets/self_harm/train/non_self_harm/1a652ed7b69d429293bc70605814d009.jpg',)\n",
      "\tattack:AutoAttack\t1134\n",
      "error: ('../../../../../cyberbullying_purification/samuel_src/datasets/self_harm/train/non_self_harm/2fa442e0fe374e8e96f1646fa4f383d0.png',)\n",
      "\tattack:AutoAttack\t1216\n",
      "error: ('../../../../../cyberbullying_purification/samuel_src/datasets/self_harm/train/non_self_harm/5fff0fbc77674173b46543c01c49d0b1.jpg',)\n",
      "\tattack:AutoAttack\t1221\n",
      "error: ('../../../../../cyberbullying_purification/samuel_src/datasets/self_harm/train/non_self_harm/0cb8a554aeb641e4947c41cf378234d8.jpg',)\n",
      "\tattack:AutoAttack\t1222\n",
      "error: ('../../../../../cyberbullying_purification/samuel_src/datasets/self_harm/train/non_self_harm/0d01cba046b84fb6a6c9cf10ce5d0a94.jpg',)\n",
      "\tattack:AutoAttack\t1249\n",
      "error: ('../../../../../cyberbullying_purification/samuel_src/datasets/self_harm/train/non_self_harm/03e116f0ad79454d9a3609c91087942c.jpg',)\n",
      "\tattack:AutoAttack\t1266\n",
      "error: ('../../../../../cyberbullying_purification/samuel_src/datasets/self_harm/train/non_self_harm/4d16a1fe27e84cad83cf119625613dbe.jpg',)\n",
      "\tattack:AutoAttack\t1272\n",
      "error: ('../../../../../cyberbullying_purification/samuel_src/datasets/self_harm/train/non_self_harm/5aaa0e2cc01a4ff4bc16c64a1adc3c3f.jpg',)\n",
      "\tattack:AutoAttack\t1281\n",
      "error: ('../../../../../cyberbullying_purification/samuel_src/datasets/self_harm/train/non_self_harm/0c0f088089434368bbef3f23d57a59e7.jpg',)\n",
      "\tattack:AutoAttack\t1295\n",
      "error: ('../../../../../cyberbullying_purification/samuel_src/datasets/self_harm/train/non_self_harm/6b9dd7e77c264c1f823f6f4139a5b1ad.jpg',)\n",
      "\tattack:AutoAttack\t1301\n",
      "error: ('../../../../../cyberbullying_purification/samuel_src/datasets/self_harm/train/non_self_harm/5c477639b5e242a18e440bc88201cc2f.jpg',)\n",
      "\tattack:AutoAttack\t1359\n",
      "error: ('../../../../../cyberbullying_purification/samuel_src/datasets/self_harm/train/non_self_harm/3ed86ae5fcce46f380ff73625a62faad.jpg',)\n",
      "\tattack:AutoAttack\t1370\n",
      "error: ('../../../../../cyberbullying_purification/samuel_src/datasets/self_harm/train/non_self_harm/7d3af7a762004a9d93ecc2e3850457f0.png',)\n",
      "\tattack:AutoAttack\t1400\n",
      "error: ('../../../../../cyberbullying_purification/samuel_src/datasets/self_harm/train/non_self_harm/4d1c7e8771734fd2964d349e144c4a34.jpg',)\n",
      "\tattack:AutoAttack\t1404\n",
      "error: ('../../../../../cyberbullying_purification/samuel_src/datasets/self_harm/train/non_self_harm/1b5fadd012474e2eb822e48a645a8c61.jpg',)\n",
      "\tattack:AutoAttack\t1426\n",
      "error: ('../../../../../cyberbullying_purification/samuel_src/datasets/self_harm/train/non_self_harm/5b41e5e6df7a484e969e38eb7df3736c.jpg',)\n",
      "\tattack:AutoAttack\t1434\n",
      "error: ('../../../../../cyberbullying_purification/samuel_src/datasets/self_harm/train/non_self_harm/1e63b0e1bbfc44a2907352abbe49e072.jpg',)\n",
      "\tattack:AutoAttack\t1452\n",
      "error: ('../../../../../cyberbullying_purification/samuel_src/datasets/self_harm/train/non_self_harm/1bc07784437643e098719e5437fad69c.jpg',)\n",
      "\tattack:AutoAttack\t1477\n",
      "error: ('../../../../../cyberbullying_purification/samuel_src/datasets/self_harm/train/non_self_harm/2b119473a7094418b8668dacbb7b28ea.jpg',)\n",
      "\tattack:AutoAttack\t1502\n",
      "error: ('../../../../../cyberbullying_purification/samuel_src/datasets/self_harm/train/non_self_harm/7f655ee0d40a4f699aff75c1bb5ad430.png',)\n",
      "\tattack:AutoAttack\t1519\n",
      "error: ('../../../../../cyberbullying_purification/samuel_src/datasets/self_harm/train/non_self_harm/6d3d8451ebbc42259262da4852cea102.jpg',)\n",
      "\tattack:AutoAttack\t1524\n",
      "error: ('../../../../../cyberbullying_purification/samuel_src/datasets/self_harm/train/non_self_harm/7ae66165edbd406dbe6d185494d0d570.jpg',)\n",
      "\tattack:AutoAttack\t1532\n",
      "error: ('../../../../../cyberbullying_purification/samuel_src/datasets/self_harm/train/non_self_harm/5eb843c73d7843c9834eb92119fb22dd.png',)\n",
      "\tattack:AutoAttack\t1548\n",
      "error: ('../../../../../cyberbullying_purification/samuel_src/datasets/self_harm/train/non_self_harm/2b4fea763ae04d5c951f60084b8306ad.jpg',)\n",
      "\tattack:AutoAttack\t1549\n",
      "error: ('../../../../../cyberbullying_purification/samuel_src/datasets/self_harm/train/non_self_harm/4e667ad20a5c43be9d50ee45f7c78c67.png',)\n",
      "\tattack:AutoAttack\t1552\n",
      "error: ('../../../../../cyberbullying_purification/samuel_src/datasets/self_harm/train/non_self_harm/2b4d51510b1d47fd93aad460f38d6a7d.jpg',)\n",
      "\tattack:AutoAttack\t1576\n",
      "error: ('../../../../../cyberbullying_purification/samuel_src/datasets/self_harm/train/non_self_harm/6eaa15386f7c4e61bf57bb88cbe13110.jpg',)\n",
      "\tattack:AutoAttack\t1588\n",
      "error: ('../../../../../cyberbullying_purification/samuel_src/datasets/self_harm/train/non_self_harm/2a42cec7466a4358a37268e27eb9e107.jpg',)\n",
      "\tattack:AutoAttack\t1621\n",
      "error: ('../../../../../cyberbullying_purification/samuel_src/datasets/self_harm/train/non_self_harm/7eefc7e029a847ed88b9df9147860e67.jpg',)\n",
      "\tattack:AutoAttack\t1665\n",
      "error: ('../../../../../cyberbullying_purification/samuel_src/datasets/self_harm/train/non_self_harm/2c3b790507bd42a5af0b3f757fa2e78c.jpg',)\n",
      "\tattack:AutoAttack\t1687\n",
      "error: ('../../../../../cyberbullying_purification/samuel_src/datasets/self_harm/train/non_self_harm/05f074d199084ca5a383ade1183acedc.jpg',)\n",
      "\tattack:AutoAttack\t1707\n",
      "error: ('../../../../../cyberbullying_purification/samuel_src/datasets/self_harm/train/non_self_harm/5d191139d4a2412aa878c6bb56027bb3.jpg',)\n",
      "\tattack:AutoAttack\t1747\n",
      "error: ('../../../../../cyberbullying_purification/samuel_src/datasets/self_harm/train/non_self_harm/02c0763d227a4c5c9a038bd6dc2bf95d.jpg',)\n",
      "\tattack:AutoAttack\t1759\n",
      "error: ('../../../../../cyberbullying_purification/samuel_src/datasets/self_harm/train/non_self_harm/5a57dc654c274b2a8d374f39d844ae53.png',)\n",
      "\tattack:AutoAttack\t1764\n",
      "error: ('../../../../../cyberbullying_purification/samuel_src/datasets/self_harm/train/non_self_harm/2ec56d9314174677be0ded3767e85aa9.jpg',)\n",
      "\tattack:AutoAttack\t1768\n",
      "error: ('../../../../../cyberbullying_purification/samuel_src/datasets/self_harm/train/non_self_harm/4ca01f728fdc41e39772abbcf16f91d2.jpg',)\n",
      "\tattack:AutoAttack\t1795\n",
      "error: ('../../../../../cyberbullying_purification/samuel_src/datasets/self_harm/train/non_self_harm/0f8e24918d91493ca479d2250903acfa.jpg',)\n",
      "\tattack:AutoAttack\t1862\n",
      "error: ('../../../../../cyberbullying_purification/samuel_src/datasets/self_harm/train/non_self_harm/3bea970ab1ee43f891e1556e09a2f066.jpg',)\n",
      "\tattack:AutoAttack\t1900\n",
      "error: ('../../../../../cyberbullying_purification/samuel_src/datasets/self_harm/train/non_self_harm/5ca8328935914b5cacaf03e49de9d630.jpg',)\n",
      "\tattack:AutoAttack\t1909\n",
      "error: ('../../../../../cyberbullying_purification/samuel_src/datasets/self_harm/train/non_self_harm/1cd0a15dca3f4fda8dbd8a3eff628299.jpg',)\n",
      "\tattack:AutoAttack\t1916\n",
      "error: ('../../../../../cyberbullying_purification/samuel_src/datasets/self_harm/train/non_self_harm/03e0ad6bc2c340d69b9bbad428a826ab.jpg',)\n",
      "\tattack:AutoAttack\t1917\n",
      "error: ('../../../../../cyberbullying_purification/samuel_src/datasets/self_harm/train/non_self_harm/5c3e087db5c341b0a69f5627de521cf7.jpg',)\n",
      "\tattack:AutoAttack\t1934\n",
      "error: ('../../../../../cyberbullying_purification/samuel_src/datasets/self_harm/train/non_self_harm/7dad4732390741a8aba19227a00a4afe.png',)\n",
      "\tattack:AutoAttack\t1956\n",
      "error: ('../../../../../cyberbullying_purification/samuel_src/datasets/self_harm/train/non_self_harm/6b2eb131f0fb43e0b18dfe860fa99c8a.jpg',)\n",
      "\tattack:AutoAttack\t1995\n",
      "error: ('../../../../../cyberbullying_purification/samuel_src/datasets/self_harm/train/non_self_harm/5f83302f65cd4ebd9ec6e36372b7fce6.jpg',)\n",
      "\tattack:AutoAttack\t1997\n",
      "error: ('../../../../../cyberbullying_purification/samuel_src/datasets/self_harm/train/non_self_harm/5ffde10445964bd38d0e352f7e2470be.jpg',)\n",
      "\tattack:AutoAttack\t2001\n",
      "error: ('../../../../../cyberbullying_purification/samuel_src/datasets/self_harm/train/non_self_harm/1e861ac2a7de4c1790602b1a7111e109.jpg',)\n",
      "\tattack:AutoAttack\t2003\n",
      "error: ('../../../../../cyberbullying_purification/samuel_src/datasets/self_harm/train/non_self_harm/4b7017844a90461daff6a3e4577d0b52.png',)\n",
      "\tattack:AutoAttack\t2022\n",
      "error: ('../../../../../cyberbullying_purification/samuel_src/datasets/self_harm/train/non_self_harm/3c6a3dc721514f8bab0db2c4eb04e7c9.jpg',)\n",
      "\tattack:AutoAttack\t2026\n",
      "error: ('../../../../../cyberbullying_purification/samuel_src/datasets/self_harm/train/non_self_harm/06adb26943ce495bb4c6484860df0728.jpg',)\n",
      "\tattack:AutoAttack\t2123\n",
      "error: ('../../../../../cyberbullying_purification/samuel_src/datasets/self_harm/train/non_self_harm/6d7e133beab941c68c5edf6c4c448173.jpg',)\n",
      "\tattack:AutoAttack\t2135\n",
      "error: ('../../../../../cyberbullying_purification/samuel_src/datasets/self_harm/train/non_self_harm/5ef765dd8abf466c9843ec1111836b65.jpg',)\n",
      "\tattack:AutoAttack\t2155\n",
      "error: ('../../../../../cyberbullying_purification/samuel_src/datasets/self_harm/train/non_self_harm/4fcf58ddf5664425a73e21407dc40290.png',)\n",
      "\tattack:AutoAttack\t2161\n",
      "error: ('../../../../../cyberbullying_purification/samuel_src/datasets/self_harm/train/non_self_harm/5e7880f9b5784444964d35498e7aa5cc.jpg',)\n",
      "\tattack:AutoAttack\t2169\n",
      "error: ('../../../../../cyberbullying_purification/samuel_src/datasets/self_harm/train/non_self_harm/7d5858e31d984edc963a90f2291807e6.jpg',)\n",
      "\tattack:AutoAttack\t2222\n",
      "error: ('../../../../../cyberbullying_purification/samuel_src/datasets/self_harm/train/non_self_harm/2b5c771f0aba41c8918010d0ceaa9427.jpg',)\n",
      "\tattack:AutoAttack\t2224\n",
      "error: ('../../../../../cyberbullying_purification/samuel_src/datasets/self_harm/train/non_self_harm/2fd74a25e91e4bfcbbf4245a2d5c8f76.jpg',)\n",
      "\tattack:AutoAttack\t2248\n",
      "error: ('../../../../../cyberbullying_purification/samuel_src/datasets/self_harm/train/non_self_harm/04e7041cfe4b40c8a1a9acd76b980514.png',)\n",
      "\tattack:AutoAttack\t2257\n",
      "error: ('../../../../../cyberbullying_purification/samuel_src/datasets/self_harm/train/non_self_harm/0fc6ea390bef4ea4b7a849b741aff6de.jpg',)\n",
      "\tattack:AutoAttack\t2281\n",
      "error: ('../../../../../cyberbullying_purification/samuel_src/datasets/self_harm/train/non_self_harm/4f86de5851df4219be5a8b1ab92948e5.jpg',)\n",
      "\tattack:AutoAttack\t2300\n",
      "error: ('../../../../../cyberbullying_purification/samuel_src/datasets/self_harm/train/non_self_harm/4f5c1dc81e8746deb94238359e6916ac.jpg',)\n",
      "\tattack:AutoAttack\t2324\n",
      "error: ('../../../../../cyberbullying_purification/samuel_src/datasets/self_harm/train/non_self_harm/2b67e9ee134b4719a3a13273546956fd.jpg',)\n",
      "\tattack:AutoAttack\t2346\n",
      "error: ('../../../../../cyberbullying_purification/samuel_src/datasets/self_harm/train/non_self_harm/5c27846b90404fb583c7f9afb2d63bdc.jpg',)\n",
      "\tattack:AutoAttack\t2377\n",
      "error: ('../../../../../cyberbullying_purification/samuel_src/datasets/self_harm/train/non_self_harm/7a64c3e735c845ea8a71d16a15f13617.jpg',)\n",
      "\tattack:AutoAttack\t2394\n",
      "error: ('../../../../../cyberbullying_purification/samuel_src/datasets/self_harm/train/non_self_harm/0c013519a3db481ca6150dea3358b576.jpg',)\n",
      "\tattack:AutoAttack\t2417\n",
      "error: ('../../../../../cyberbullying_purification/samuel_src/datasets/self_harm/train/non_self_harm/5ddc96fa7e4e478c93b3ecf17e6a9459.png',)\n",
      "\tattack:AutoAttack\t2419\n",
      "error: ('../../../../../cyberbullying_purification/samuel_src/datasets/self_harm/train/non_self_harm/0a77b5c26789465e9c8482d54c326d6e.jpg',)\n",
      "\tattack:AutoAttack\t2427\n",
      "error: ('../../../../../cyberbullying_purification/samuel_src/datasets/self_harm/train/non_self_harm/3f58ece5b5be40309bee9b1bee06c3e9.jpg',)\n",
      "\tattack:AutoAttack\t2439\n",
      "error: ('../../../../../cyberbullying_purification/samuel_src/datasets/self_harm/train/non_self_harm/1ebd6aaed64846818cd3f94c7ed07808.jpg',)\n",
      "\tattack:AutoAttack\t2499\n",
      "error: ('../../../../../cyberbullying_purification/samuel_src/datasets/self_harm/train/non_self_harm/6a849c0052334123b64fb0c0a67b909a.jpg',)\n",
      "\tattack:AutoAttack\t2532\n",
      "error: ('../../../../../cyberbullying_purification/samuel_src/datasets/self_harm/train/non_self_harm/6c88a97a100f4c3cb23c86c384638b0c.jpg',)\n",
      "\tattack:AutoAttack\t2597\n",
      "error: ('../../../../../cyberbullying_purification/samuel_src/datasets/self_harm/train/non_self_harm/4e3d249470bc40aa8bb16cbcd95e0520.jpeg',)\n",
      "\tattack:AutoAttack\t2602\n",
      "error: ('../../../../../cyberbullying_purification/samuel_src/datasets/self_harm/train/non_self_harm/6e5d9b0592204c0c951ce2e8304cc2f4.jpg',)\n",
      "\tattack:AutoAttack\t2608\n",
      "error: ('../../../../../cyberbullying_purification/samuel_src/datasets/self_harm/train/non_self_harm/3c1e1442d74f41339dccc56cd331faa7.jpg',)\n",
      "\tattack:AutoAttack\t2654\n",
      "error: ('../../../../../cyberbullying_purification/samuel_src/datasets/self_harm/train/non_self_harm/6b2ed404e5d2434d9438d13e5b73b730.jpg',)\n",
      "\tattack:AutoAttack\t2699\n",
      "error: ('../../../../../cyberbullying_purification/samuel_src/datasets/self_harm/train/non_self_harm/3e4fb04fd4d249a387f1de823b337ff0.jpg',)\n",
      "\tattack:AutoAttack\t2703\n",
      "error: ('../../../../../cyberbullying_purification/samuel_src/datasets/self_harm/train/non_self_harm/6a956545f7f94b599dd1ba920ab6779e.jpg',)\n",
      "\tattack:AutoAttack\t2715\n",
      "error: ('../../../../../cyberbullying_purification/samuel_src/datasets/self_harm/train/non_self_harm/2a305ce59b5f4ccdace2ac5d8b0ebb18.jpg',)\n",
      "\tattack:AutoAttack\t2743\n",
      "error: ('../../../../../cyberbullying_purification/samuel_src/datasets/self_harm/train/non_self_harm/5bf7543e52164dfe8c94ef2e4c17c132.jpg',)\n",
      "\tattack:AutoAttack\t2750\n",
      "error: ('../../../../../cyberbullying_purification/samuel_src/datasets/self_harm/train/non_self_harm/8a180e0730cb4d03ad9e2fa0cdde17cd.jpg',)\n",
      "\tattack:AutoAttack\t2760\n",
      "error: ('../../../../../cyberbullying_purification/samuel_src/datasets/self_harm/train/non_self_harm/1d30e17abc084786b4138f3df929cf2f.jpg',)\n",
      "\tattack:AutoAttack\t2776\n",
      "error: ('../../../../../cyberbullying_purification/samuel_src/datasets/self_harm/train/non_self_harm/6c0e502cc5084bfda27ed4a16eef808b.jpg',)\n",
      "\tattack:AutoAttack\t2800\n",
      "error: ('../../../../../cyberbullying_purification/samuel_src/datasets/self_harm/train/non_self_harm/4acaab6bea154ff0afe89aecc8208063.jpg',)\n",
      "\tattack:AutoAttack\t2816\n",
      "error: ('../../../../../cyberbullying_purification/samuel_src/datasets/self_harm/train/non_self_harm/7f6c6415b8054d1a9ecb67de1be70115.jpg',)\n",
      "\tattack:AutoAttack\t2818\n",
      "error: ('../../../../../cyberbullying_purification/samuel_src/datasets/self_harm/train/non_self_harm/3e7c4b37326b44d7b9be71c055fa725d.jpg',)\n",
      "\tattack:AutoAttack\t2827\n",
      "error: ('../../../../../cyberbullying_purification/samuel_src/datasets/self_harm/train/non_self_harm/3c203dbc6aa6413d83acaf8b847aae30.jpg',)\n",
      "\tattack:AutoAttack\t2860\n",
      "error: ('../../../../../cyberbullying_purification/samuel_src/datasets/self_harm/train/non_self_harm/5ebe94d00aec44da963159f893687089.jpg',)\n",
      "\tattack:AutoAttack\t2889\n",
      "error: ('../../../../../cyberbullying_purification/samuel_src/datasets/self_harm/train/non_self_harm/1a63f8cf9d384176ac0f6ba196a419ad.jpg',)\n",
      "\tattack:AutoAttack\t2905\n",
      "error: ('../../../../../cyberbullying_purification/samuel_src/datasets/self_harm/train/non_self_harm/1e8279a0c9934e87bfaf2f77ac5a457f.png',)\n",
      "\tattack:AutoAttack\t2910\n",
      "error: ('../../../../../cyberbullying_purification/samuel_src/datasets/self_harm/train/non_self_harm/8aa427e649714b828d59c6359fc68771.jpg',)\n",
      "\tattack:AutoAttack\t2934\n",
      "error: ('../../../../../cyberbullying_purification/samuel_src/datasets/self_harm/train/non_self_harm/7c74ebcbcc1f43879b6c715ceed5e603.jpg',)\n",
      "\tattack:AutoAttack\t2988\n",
      "error: ('../../../../../cyberbullying_purification/samuel_src/datasets/self_harm/train/non_self_harm/00b3efc7529742deb2e190c274990234.jpg',)\n",
      "\tattack:AutoAttack\t2991\n",
      "error: ('../../../../../cyberbullying_purification/samuel_src/datasets/self_harm/train/non_self_harm/6d1aad5b3a7c40c9b32db7aefa3a71a4.png',)\n",
      "\tattack:AutoAttack\t2993\n",
      "error: ('../../../../../cyberbullying_purification/samuel_src/datasets/self_harm/train/non_self_harm/5c56f15eabf14b79a1f472ff6867476c.png',)\n",
      "\tattack:AutoAttack\t2998\n",
      "error: ('../../../../../cyberbullying_purification/samuel_src/datasets/self_harm/train/non_self_harm/1c6acf5933924600a1f7a4f42806246b.jpg',)\n",
      "\tattack:AutoAttack\t3092\n",
      "error: ('../../../../../cyberbullying_purification/samuel_src/datasets/self_harm/train/non_self_harm/6b542327a2344f93ace6d1afb1a78c4f.jpg',)\n",
      "\tattack:AutoAttack\t3117\n",
      "error: ('../../../../../cyberbullying_purification/samuel_src/datasets/self_harm/train/non_self_harm/04f95be3cb2241bd8618190965ff3e23.png',)\n",
      "\tattack:AutoAttack\t3191\n",
      "error: ('../../../../../cyberbullying_purification/samuel_src/datasets/self_harm/train/non_self_harm/2a89a4af55fc4c06a9b9ec9a5ec34633.jpg',)\n",
      "\tattack:AutoAttack\t3203\n",
      "error: ('../../../../../cyberbullying_purification/samuel_src/datasets/self_harm/train/non_self_harm/6bce2be938f6479baa302de5159648c1.jpg',)\n",
      "\tattack:AutoAttack\t3213\n",
      "error: ('../../../../../cyberbullying_purification/samuel_src/datasets/self_harm/train/non_self_harm/0ac42d830c5e46c589963ea1361c1a9b.jpg',)\n",
      "\tattack:AutoAttack\t3220\n",
      "error: ('../../../../../cyberbullying_purification/samuel_src/datasets/self_harm/train/non_self_harm/0ab8fe1160d4479baad22352b390b345.jpg',)\n",
      "\tattack:AutoAttack\t3244\n",
      "error: ('../../../../../cyberbullying_purification/samuel_src/datasets/self_harm/train/non_self_harm/4ef6ecd0fbec458f8d436fe6793cfa57.png',)\n",
      "\tattack:AutoAttack\t3267\n",
      "error: ('../../../../../cyberbullying_purification/samuel_src/datasets/self_harm/train/non_self_harm/0b95ace8d4884385bff8345e681befff.jpg',)\n",
      "\tattack:AutoAttack\t3313\n",
      "error: ('../../../../../cyberbullying_purification/samuel_src/datasets/self_harm/train/non_self_harm/3ce67250918b41f6903218d1bbbe7728.jpg',)\n",
      "\tattack:AutoAttack\t3319\n",
      "error: ('../../../../../cyberbullying_purification/samuel_src/datasets/self_harm/train/non_self_harm/4b45573db26342d7ad29694fad404024.jpg',)\n",
      "\tattack:AutoAttack\t3379\n",
      "error: ('../../../../../cyberbullying_purification/samuel_src/datasets/self_harm/train/non_self_harm/0b48c39b40d14dc7b4eee9329f5262b0.jpg',)\n",
      "\tattack:AutoAttack\t3544\n",
      "error: ('../../../../../cyberbullying_purification/samuel_src/datasets/self_harm/train/non_self_harm/2e426a4bc48f41cd99beb8162b9fbc79.jpg',)\n",
      "\tattack:AutoAttack\t3594\n",
      "error: ('../../../../../cyberbullying_purification/samuel_src/datasets/self_harm/train/non_self_harm/3f8be0a782754eafbd11833691b64983.jpg',)\n",
      "\tattack:AutoAttack\t3680\n",
      "error: ('../../../../../cyberbullying_purification/samuel_src/datasets/self_harm/train/non_self_harm/2cce6d6209004fa0ac72219473b9120a.jpg',)\n",
      "\tattack:AutoAttack\t3683\n",
      "error: ('../../../../../cyberbullying_purification/samuel_src/datasets/self_harm/train/non_self_harm/5ab62dfa37c342988d64b7f049cc4cfc.jpg',)\n",
      "\tattack:AutoAttack\t3690\n",
      "error: ('../../../../../cyberbullying_purification/samuel_src/datasets/self_harm/train/non_self_harm/0cc7925b7f6d4d4798fcf01c6c531473.png',)\n",
      "\tattack:AutoAttack\t3738\n",
      "error: ('../../../../../cyberbullying_purification/samuel_src/datasets/self_harm/train/non_self_harm/7e6e1d9a6c714744b3ac4e91ac93da5e.jpg',)\n",
      "\tattack:AutoAttack\t3787\n",
      "error: ('../../../../../cyberbullying_purification/samuel_src/datasets/self_harm/train/non_self_harm/4f384ca846894d7bb0056d95efe9fe3e.jpg',)\n",
      "\tattack:AutoAttack\t3795\n",
      "error: ('../../../../../cyberbullying_purification/samuel_src/datasets/self_harm/train/non_self_harm/1d3a2050afdc4f0d86fda7c52e0b49bd.jpg',)\n",
      "\tattack:AutoAttack\t3810\n",
      "error: ('../../../../../cyberbullying_purification/samuel_src/datasets/self_harm/train/non_self_harm/0b208956337c4be5b150ef08c2721742.jpg',)\n",
      "\tattack:AutoAttack\t3812\n",
      "error: ('../../../../../cyberbullying_purification/samuel_src/datasets/self_harm/train/non_self_harm/1eac633bf68a49b49c1fc0ce70c6e2af.jpg',)\n",
      "\tattack:AutoAttack\t3827\n",
      "error: ('../../../../../cyberbullying_purification/samuel_src/datasets/self_harm/train/non_self_harm/1a7c5b43d64b4e97870ce4e790b6a734.jpg',)\n",
      "\tattack:AutoAttack\t3828\n",
      "error: ('../../../../../cyberbullying_purification/samuel_src/datasets/self_harm/train/non_self_harm/3c1f0acfb1384eb7bda32ecf90c51790.jpg',)\n",
      "\tattack:AutoAttack\t3833\n",
      "error: ('../../../../../cyberbullying_purification/samuel_src/datasets/self_harm/train/non_self_harm/7a79d120db854d97b62c1e52f76f3a81.jpg',)\n",
      "\tattack:AutoAttack\t3868\n",
      "error: ('../../../../../cyberbullying_purification/samuel_src/datasets/self_harm/train/non_self_harm/6ffc919b352b4f4f951f3c4461f6a6dc.png',)\n",
      "\tattack:AutoAttack\t3918\n",
      "error: ('../../../../../cyberbullying_purification/samuel_src/datasets/self_harm/train/non_self_harm/3bd507080f30473b9e6d68bb78ce5ca9.jpg',)\n",
      "\tattack:AutoAttack\t3923\n"
     ]
    }
   ],
   "source": [
    "#%debug\n",
    "skipped_test = attack_path(path_test, save_path_test, model)\n",
    "skipped_train = attack_path(path_train, save_path_train, model)"
   ]
  },
  {
   "cell_type": "code",
   "execution_count": 20,
   "metadata": {},
   "outputs": [],
   "source": [
    "def rename_clean(path):\n",
    "    for dirpath, dirnames, filenames in os.walk(path):        \n",
    "        for filename in filenames:\n",
    "            if \"Clean\" in filename:\n",
    "                newname = filename.replace(\"Clean\", \"Rotated\")\n",
    "                os.rename(os.path.join(dirpath, filename), os.path.join(dirpath, newname))\n",
    "\n",
    "                "
   ]
  },
  {
   "cell_type": "code",
   "execution_count": 30,
   "metadata": {},
   "outputs": [],
   "source": [
    "import random\n",
    "import shutil\n",
    "def copy_random_files(src_path, dest_path, num_files):\n",
    "    c = 0\n",
    "    for dir_path, dir_names, filenames in os.walk(src_path):\n",
    "        if dir_path == src_path:\n",
    "            print(dir_path)\n",
    "            print(dir_names)\n",
    "            print(len(filenames))\n",
    "            to_move = random.sample(filenames, num_files)\n",
    "            for file in to_move:\n",
    "                new_name = str(c) + \"_Clean.png\"\n",
    "                shutil.copy(os.path.join(dir_path, file), os.path.join(dest_path, new_name))\n",
    "                c += 1"
   ]
  },
  {
   "cell_type": "code",
   "execution_count": 31,
   "metadata": {},
   "outputs": [],
   "source": [
    "src_path1 = '../../../../../cyberbullying_purification/samuel_src/datasets/self_harm/test/self_harm/'\n",
    "dest_path1 = '../../../../data/self_harm/attacked/test/self_harm/'\n",
    "\n",
    "src_path2 = '../../../../../cyberbullying_purification/samuel_src/datasets/self_harm/test/non_self_harm/'\n",
    "dest_path2 = '../../../../data/self_harm/attacked/test/non_self_harm/'\n",
    "\n",
    "src_path3 = '../../../../../cyberbullying_purification/samuel_src/datasets/self_harm/train/self_harm/'\n",
    "dest_path3 = '../../../../data/self_harm/attacked/train/self_harm/'\n",
    "\n",
    "src_path4 = '../../../../../cyberbullying_purification/samuel_src/datasets/self_harm/train/non_self_harm/'\n",
    "dest_path4 = '../../../../data/self_harm/attacked/train/non_self_harm/'\n"
   ]
  },
  {
   "cell_type": "code",
   "execution_count": 32,
   "metadata": {},
   "outputs": [
    {
     "name": "stdout",
     "output_type": "stream",
     "text": [
      "../../../../../cyberbullying_purification/samuel_src/datasets/self_harm/test/self_harm/\n",
      "[]\n",
      "211\n",
      "../../../../../cyberbullying_purification/samuel_src/datasets/self_harm/test/non_self_harm/\n",
      "[]\n",
      "285\n",
      "../../../../../cyberbullying_purification/samuel_src/datasets/self_harm/train/self_harm/\n",
      "[]\n",
      "1680\n",
      "../../../../../cyberbullying_purification/samuel_src/datasets/self_harm/train/non_self_harm/\n",
      "[]\n",
      "2278\n"
     ]
    }
   ],
   "source": [
    "copy_random_files(src_path1, dest_path1, 100)\n",
    "copy_random_files(src_path2, dest_path2, 100)\n",
    "copy_random_files(src_path3, dest_path3, 1000)\n",
    "copy_random_files(src_path4, dest_path4, 1000)"
   ]
  },
  {
   "cell_type": "code",
   "execution_count": null,
   "metadata": {},
   "outputs": [],
   "source": []
  },
  {
   "cell_type": "code",
   "execution_count": null,
   "metadata": {},
   "outputs": [],
   "source": []
  },
  {
   "cell_type": "code",
   "execution_count": null,
   "metadata": {},
   "outputs": [],
   "source": []
  },
  {
   "cell_type": "code",
   "execution_count": null,
   "metadata": {},
   "outputs": [],
   "source": [
    "atks = [\n",
    "    #FGSM(model, eps=8/255),\n",
    "    #BIM(model, eps=8/255, alpha=2/255, steps=100),\n",
    "    #RFGSM(model, eps=8/255, alpha=2/255, steps=100),\n",
    "    #CW(model, c=1, lr=0.01, steps=100, kappa=0),\n",
    "    #PGD(model, eps=8/255, alpha=2/225, steps=100, random_start=True),\n",
    "    #PGDL2(model, eps=1, alpha=0.2, steps=100),\n",
    "    #EOTPGD(model, eps=8/255, alpha=2/255, steps=100, eot_iter=2),\n",
    "    #FFGSM(model, eps=8/255, alpha=10/255),\n",
    "    #TPGD(model, eps=8/255, alpha=2/255, steps=100),\n",
    "    #MIFGSM(model, eps=8/255, alpha=2/255, steps=100, decay=0.1),\n",
    "    VANILA(model),\n",
    "    #GN(model, std=0.1),\n",
    "    #APGD(model, eps=8/255, steps=100, eot_iter=1, n_restarts=1, loss='ce'),\n",
    "    #APGD(model, eps=8/255, steps=100, eot_iter=1, n_restarts=1, loss='dlr'),\n",
    "    #APGDT(model, eps=8/255, steps=100, eot_iter=1, n_restarts=1),\n",
    "    #FAB(model, eps=8/255, steps=100, n_classes=10, n_restarts=1, targeted=False),\n",
    "    #FAB(model, eps=8/255, steps=100, n_classes=10, n_restarts=1, targeted=True),\n",
    "    Square(model, eps=16/255, n_queries=10000, n_restarts=1, loss='ce'),\n",
    "    AutoAttack(model, eps=16/255, n_classes=10, version='standard'),\n",
    "    #OnePixel(model, pixels=5, inf_batch=50),\n",
    "    #DeepFool(model, steps=100),\n",
    "    #DIFGSM(model, eps=8/255, alpha=2/255, steps=100, diversity_prob=0.5, resize_rate=0.9)\n",
    "]"
   ]
  },
  {
   "cell_type": "code",
   "execution_count": null,
   "metadata": {},
   "outputs": [],
   "source": [
    "from PIL import Image\n",
    "import torchvision.transforms.functional as TF\n",
    "\n",
    "print(\"Adversarial Image & Predicted Label\")\n",
    "save_path = 'data/perturbations/'\n",
    "input_path  = 'data/clean/'\n",
    "\n",
    "for atk in atks :\n",
    "    print(\"-\"*70)\n",
    "    print(atk)\n",
    "    \n",
    "    correct = 0\n",
    "    total = 0\n",
    "    \n",
    "    # save attack name. if path for saving attacked image does not exist, make it\n",
    "    atk_name = str(atk).split('(')[0]\n",
    "    atk_path = 'data/attacked/' + atk_name + '64'\n",
    "    if not os.path.exists(atk_path):\n",
    "        os.makedirs(atk_path)\n",
    "    \n",
    "    # iterate through images\n",
    "    for i in range(1001, 1051):\n",
    "        # load the image\n",
    "        file_path = input_path + str(i) + '.jpg'\n",
    "        image = Image.open(file_path)\n",
    "        x = TF.to_tensor(image)\n",
    "        x.unsqueeze_(0)\n",
    "        # put image to device\n",
    "        x = x.to(device)\n",
    "        if x.shape == (224,224,4):\n",
    "            image = image[:, :, :3]\n",
    "        # get correct label for image\n",
    "        labels[0] = int(torch.topk(model(x), k = 1)[1][0][0])\n",
    "        # attack the image\n",
    "        adv_image = atk(x, labels)\n",
    "        labels = labels.to(device)\n",
    "        outputs = model(adv_image)\n",
    "        # isolate perterbation\n",
    "        perturbation = adv_image - x\n",
    "        # save perturbation as png\n",
    "        torchvision.utils.save_image(perturbation, save_path + atk_name + str(i) + 'pert.png')\n",
    "        # save the attacked image\n",
    "        torchvision.utils.save_image(adv_image, atk_path + '/' + atk_name + str(i) + '.png')"
   ]
  }
 ],
 "metadata": {
  "accelerator": "GPU",
  "colab": {
   "collapsed_sections": [],
   "name": "nsfw_model.ipynb",
   "provenance": []
  },
  "kernelspec": {
   "display_name": "Python 3 (ipykernel)",
   "language": "python",
   "name": "python3"
  },
  "language_info": {
   "codemirror_mode": {
    "name": "ipython",
    "version": 3
   },
   "file_extension": ".py",
   "mimetype": "text/x-python",
   "name": "python",
   "nbconvert_exporter": "python",
   "pygments_lexer": "ipython3",
   "version": "3.8.10"
  }
 },
 "nbformat": 4,
 "nbformat_minor": 4
}
