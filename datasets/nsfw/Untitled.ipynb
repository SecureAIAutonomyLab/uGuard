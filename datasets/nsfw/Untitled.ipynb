{
 "cells": [
  {
   "cell_type": "code",
   "execution_count": 1,
   "id": "a3944390-a5dc-4c4b-8ad9-faab0522552c",
   "metadata": {},
   "outputs": [
    {
     "name": "stdout",
     "output_type": "stream",
     "text": [
      "17504\n",
      "8593\n"
     ]
    }
   ],
   "source": [
    "import os\n",
    "import random\n",
    "\n",
    "path_train_neutral = 'val/neutral/'\n",
    "path_train_porn = 'val/porn'\n",
    "\n",
    "list_neutral = sorted(os.listdir(path_train_neutral))\n",
    "list_porn = os.listdir(path_train_porn)\n",
    "print(len(list_neutral))\n",
    "print(len(list_porn))"
   ]
  },
  {
   "cell_type": "code",
   "execution_count": 4,
   "id": "91ad8681-dc2d-4ed1-9baa-c27127462a3e",
   "metadata": {},
   "outputs": [
    {
     "name": "stdout",
     "output_type": "stream",
     "text": [
      "['01005.jpg', '01019.jpg', '01025.jpg', '01031.jpg', '01035.jpg']\n"
     ]
    }
   ],
   "source": [
    "print(list_neutral[0:5])"
   ]
  },
  {
   "cell_type": "code",
   "execution_count": 5,
   "id": "80085579-4df3-462a-a3ba-fd7fee53399b",
   "metadata": {},
   "outputs": [
    {
     "name": "stdout",
     "output_type": "stream",
     "text": [
      "8593\n"
     ]
    }
   ],
   "source": [
    "list_neutral_only = []\n",
    "list_sexy = []\n",
    "for file in list_neutral:\n",
    "    if \"sexy\" in file:\n",
    "        list_sexy.append(file)\n",
    "    else:\n",
    "        list_neutral_only.append(file)\n",
    "#There is 15998 sexy and 65691 neutral. All sexy will be used, and the rest will be filled with neutral, to sum 40103 images\n",
    "for i in range(len(list_porn)-len(list_sexy)):\n",
    "    list_sexy.append(list_neutral_only.pop(random.randrange(len(list_neutral_only))))\n",
    "\n",
    "print(len(list_sexy))\n",
    "    "
   ]
  },
  {
   "cell_type": "code",
   "execution_count": 6,
   "id": "2d693373-5599-4734-b338-d4cbe98a2161",
   "metadata": {},
   "outputs": [
    {
     "name": "stderr",
     "output_type": "stream",
     "text": [
      "100%|██████████████████████████████████████████████████████████████████████████████████████████████| 8593/8593 [00:01<00:00, 5108.39it/s]\n",
      "100%|██████████████████████████████████████████████████████████████████████████████████████████████| 8593/8593 [00:01<00:00, 5018.41it/s]\n"
     ]
    }
   ],
   "source": [
    "import shutil\n",
    "import tqdm\n",
    "destination_path = \"val_balanced/\"\n",
    "for filename in tqdm.tqdm(list_sexy):\n",
    "    shutil.copy(os.path.join(path_train_neutral, filename), os.path.join(destination_path+'neutral', filename))\n",
    "for filename in tqdm.tqdm(list_porn):\n",
    "    shutil.copy(os.path.join(path_train_porn, filename), os.path.join(destination_path+'porn', filename))"
   ]
  },
  {
   "cell_type": "code",
   "execution_count": 8,
   "id": "6b12e7da-28ac-4a01-afcf-75344871e20b",
   "metadata": {},
   "outputs": [
    {
     "name": "stdout",
     "output_type": "stream",
     "text": [
      "8593\n",
      "8593\n"
     ]
    }
   ],
   "source": [
    "print(len(os.listdir(destination_path+'neutral')))\n",
    "print(len(os.listdir(destination_path+'porn')))"
   ]
  },
  {
   "cell_type": "code",
   "execution_count": null,
   "id": "2542ee57-9591-492f-a4d9-fa872c5bb44b",
   "metadata": {},
   "outputs": [],
   "source": []
  }
 ],
 "metadata": {
  "kernelspec": {
   "display_name": "Python 3 (ipykernel)",
   "language": "python",
   "name": "python3"
  },
  "language_info": {
   "codemirror_mode": {
    "name": "ipython",
    "version": 3
   },
   "file_extension": ".py",
   "mimetype": "text/x-python",
   "name": "python",
   "nbconvert_exporter": "python",
   "pygments_lexer": "ipython3",
   "version": "3.8.10"
  }
 },
 "nbformat": 4,
 "nbformat_minor": 5
}
