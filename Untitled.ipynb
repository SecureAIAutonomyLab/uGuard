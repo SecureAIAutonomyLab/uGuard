{
 "cells": [
  {
   "cell_type": "code",
   "execution_count": 8,
   "id": "2d6741fb-3306-4edd-ad50-70ed6c1c13cd",
   "metadata": {},
   "outputs": [],
   "source": [
    "from pathlib import Path\n",
    "\n",
    "\n",
    "random_path = Path('datasets/rando')\n",
    "\n",
    "\n",
    "random_path.mkdir(exist_ok=True)\n"
   ]
  },
  {
   "cell_type": "code",
   "execution_count": 3,
   "id": "e0c1bb1c-59a2-4193-b032-dce47b12149b",
   "metadata": {},
   "outputs": [
    {
     "data": {
      "text/plain": [
       "PosixPath('/workspace/adv_robustness/cyberbullying_purification/uGuard/datasets/rando')"
      ]
     },
     "execution_count": 3,
     "metadata": {},
     "output_type": "execute_result"
    }
   ],
   "source": [
    "random_path.absolute()"
   ]
  },
  {
   "cell_type": "code",
   "execution_count": 5,
   "id": "57d103b6-c7a8-436e-b3e8-3a4e89137ba5",
   "metadata": {},
   "outputs": [
    {
     "data": {
      "text/plain": [
       "PosixPath('datasets')"
      ]
     },
     "execution_count": 5,
     "metadata": {},
     "output_type": "execute_result"
    }
   ],
   "source": [
    "random_path.parent"
   ]
  },
  {
   "cell_type": "code",
   "execution_count": null,
   "id": "d0cb1838-63f8-4b41-9672-5e249b9a6912",
   "metadata": {},
   "outputs": [],
   "source": []
  }
 ],
 "metadata": {
  "kernelspec": {
   "display_name": "Python 3 (ipykernel)",
   "language": "python",
   "name": "python3"
  },
  "language_info": {
   "codemirror_mode": {
    "name": "ipython",
    "version": 3
   },
   "file_extension": ".py",
   "mimetype": "text/x-python",
   "name": "python",
   "nbconvert_exporter": "python",
   "pygments_lexer": "ipython3",
   "version": "3.8.10"
  }
 },
 "nbformat": 4,
 "nbformat_minor": 5
}
